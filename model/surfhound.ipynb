{
  "cells": [
    {
      "cell_type": "code",
      "execution_count": 1,
      "metadata": {
        "jupyter": {
          "outputs_hidden": false,
          "source_hidden": false
        },
        "nteract": {
          "transient": {
            "deleting": false
          }
        }
      },
      "outputs": [
        {
          "name": "stdout",
          "output_type": "stream",
          "text": [
            "Collecting tldextract\n",
            "  Downloading tldextract-5.1.1-py3-none-any.whl (97 kB)\n",
            "\u001b[K     |████████████████████████████████| 97 kB 3.1 MB/s eta 0:00:011\n",
            "\u001b[?25hCollecting requests-file>=1.4\n",
            "  Downloading requests_file-1.5.1-py2.py3-none-any.whl (3.7 kB)\n",
            "Requirement already satisfied: idna in /anaconda/envs/azureml_py38/lib/python3.8/site-packages (from tldextract) (3.4)\n",
            "Requirement already satisfied: requests>=2.1.0 in /anaconda/envs/azureml_py38/lib/python3.8/site-packages (from tldextract) (2.31.0)\n",
            "Requirement already satisfied: filelock>=3.0.8 in /anaconda/envs/azureml_py38/lib/python3.8/site-packages (from tldextract) (3.12.0)\n",
            "Requirement already satisfied: six in /anaconda/envs/azureml_py38/lib/python3.8/site-packages (from requests-file>=1.4->tldextract) (1.16.0)\n",
            "Requirement already satisfied: certifi>=2017.4.17 in /anaconda/envs/azureml_py38/lib/python3.8/site-packages (from requests>=2.1.0->tldextract) (2022.9.24)\n",
            "Requirement already satisfied: charset-normalizer<4,>=2 in /anaconda/envs/azureml_py38/lib/python3.8/site-packages (from requests>=2.1.0->tldextract) (3.1.0)\n",
            "Requirement already satisfied: urllib3<3,>=1.21.1 in /anaconda/envs/azureml_py38/lib/python3.8/site-packages (from requests>=2.1.0->tldextract) (1.26.16)\n",
            "Installing collected packages: requests-file, tldextract\n",
            "Successfully installed requests-file-1.5.1 tldextract-5.1.1\n"
          ]
        }
      ],
      "source": [
        "!pip install tldextract"
      ]
    },
    {
      "cell_type": "code",
      "execution_count": 2,
      "metadata": {
        "gather": {
          "logged": 1700805195784
        },
        "jupyter": {
          "outputs_hidden": false,
          "source_hidden": false
        },
        "nteract": {
          "transient": {
            "deleting": false
          }
        }
      },
      "outputs": [
        {
          "name": "stdout",
          "output_type": "stream",
          "text": [
            "/mnt/batch/tasks/shared/LS_root/mounts/clusters/very-much-memory/code/Users/Owen.Rotich\n"
          ]
        }
      ],
      "source": [
        "import os\n",
        "\n",
        "# Get the current working directory\n",
        "cwd = os.getcwd()\n",
        "file_path = cwd\n",
        "# Construct the file path\n",
        "print(file_path)"
      ]
    },
    {
      "cell_type": "code",
      "execution_count": 3,
      "metadata": {
        "gather": {
          "logged": 1700805195968
        },
        "jupyter": {
          "outputs_hidden": false,
          "source_hidden": false
        },
        "nteract": {
          "transient": {
            "deleting": false
          }
        }
      },
      "outputs": [],
      "source": [
        "import sys\n",
        "\n",
        "# Add the directory containing utils.py to the Python path\n",
        "sys.path.append(os.path.dirname(file_path))"
      ]
    },
    {
      "cell_type": "code",
      "execution_count": 4,
      "metadata": {
        "gather": {
          "logged": 1700805227648
        },
        "id": "aJNaHNTy84fU"
      },
      "outputs": [
        {
          "name": "stderr",
          "output_type": "stream",
          "text": [
            "2023-11-24 05:53:21.642126: I tensorflow/core/platform/cpu_feature_guard.cc:193] This TensorFlow binary is optimized with oneAPI Deep Neural Network Library (oneDNN) to use the following CPU instructions in performance-critical operations:  AVX2 AVX512F FMA\n",
            "To enable them in other operations, rebuild TensorFlow with the appropriate compiler flags.\n",
            "2023-11-24 05:53:26.825755: W tensorflow/compiler/xla/stream_executor/platform/default/dso_loader.cc:64] Could not load dynamic library 'libcudart.so.11.0'; dlerror: libcudart.so.11.0: cannot open shared object file: No such file or directory\n",
            "2023-11-24 05:53:26.825784: I tensorflow/compiler/xla/stream_executor/cuda/cudart_stub.cc:29] Ignore above cudart dlerror if you do not have a GPU set up on your machine.\n",
            "2023-11-24 05:53:38.524379: W tensorflow/compiler/xla/stream_executor/platform/default/dso_loader.cc:64] Could not load dynamic library 'libnvinfer.so.7'; dlerror: libnvinfer.so.7: cannot open shared object file: No such file or directory\n",
            "2023-11-24 05:53:38.524679: W tensorflow/compiler/xla/stream_executor/platform/default/dso_loader.cc:64] Could not load dynamic library 'libnvinfer_plugin.so.7'; dlerror: libnvinfer_plugin.so.7: cannot open shared object file: No such file or directory\n",
            "2023-11-24 05:53:38.524697: W tensorflow/compiler/tf2tensorrt/utils/py_utils.cc:38] TF-TRT Warning: Cannot dlopen some TensorRT libraries. If you would like to use Nvidia GPU with TensorRT, please make sure the missing libraries mentioned above are installed properly.\n"
          ]
        }
      ],
      "source": [
        "import pandas as pd\n",
        "import matplotlib.pyplot as plt\n",
        "from sklearn.preprocessing import LabelEncoder\n",
        "from sklearn.model_selection import train_test_split\n",
        "from sklearn.metrics import classification_report, confusion_matrix\n",
        "from sklearn.utils import shuffle\n",
        "from sklearn.utils.class_weight import compute_class_weight\n",
        "from tensorflow.keras.models import Sequential, load_model\n",
        "from tensorflow.keras.layers import Dense, Dropout\n",
        "from tensorflow.keras.callbacks import EarlyStopping\n",
        "from sklearn.utils.class_weight import compute_class_weight\n",
        "import pickle\n",
        "from utils import Preprocessor\n",
        "import numpy as np"
      ]
    },
    {
      "cell_type": "code",
      "execution_count": 5,
      "metadata": {
        "gather": {
          "logged": 1700805232612
        },
        "id": "CaJkJRREFHSb"
      },
      "outputs": [],
      "source": [
        "# Load dataset\n",
        "df = pd.read_csv('phishing_urls.csv')"
      ]
    },
    {
      "cell_type": "markdown",
      "metadata": {
        "id": "C9vMPTwyprZS"
      },
      "source": [
        "EXPLORATORY DATASET ANALYSIS"
      ]
    },
    {
      "cell_type": "code",
      "execution_count": 6,
      "metadata": {
        "colab": {
          "base_uri": "https://localhost:8080/",
          "height": 339
        },
        "gather": {
          "logged": 1700805235217
        },
        "id": "ZcetkRh5potE",
        "outputId": "93c59b09-84b2-4839-93b7-f821813b078c"
      },
      "outputs": [
        {
          "name": "stdout",
          "output_type": "stream",
          "text": [
            "<class 'pandas.core.frame.DataFrame'>\n",
            "RangeIndex: 1560855 entries, 0 to 1560854\n",
            "Data columns (total 2 columns):\n",
            " #   Column  Non-Null Count    Dtype \n",
            "---  ------  --------------    ----- \n",
            " 0   url     1560855 non-null  object\n",
            " 1   label   1560855 non-null  object\n",
            "dtypes: object(2)\n",
            "memory usage: 23.8+ MB\n"
          ]
        },
        {
          "data": {
            "text/html": [
              "<div>\n",
              "<style scoped>\n",
              "    .dataframe tbody tr th:only-of-type {\n",
              "        vertical-align: middle;\n",
              "    }\n",
              "\n",
              "    .dataframe tbody tr th {\n",
              "        vertical-align: top;\n",
              "    }\n",
              "\n",
              "    .dataframe thead th {\n",
              "        text-align: right;\n",
              "    }\n",
              "</style>\n",
              "<table border=\"1\" class=\"dataframe\">\n",
              "  <thead>\n",
              "    <tr style=\"text-align: right;\">\n",
              "      <th></th>\n",
              "      <th>url</th>\n",
              "      <th>label</th>\n",
              "    </tr>\n",
              "  </thead>\n",
              "  <tbody>\n",
              "    <tr>\n",
              "      <th>count</th>\n",
              "      <td>1560855</td>\n",
              "      <td>1560855</td>\n",
              "    </tr>\n",
              "    <tr>\n",
              "      <th>unique</th>\n",
              "      <td>1558231</td>\n",
              "      <td>2</td>\n",
              "    </tr>\n",
              "    <tr>\n",
              "      <th>top</th>\n",
              "      <td>http://alvaroestrella.com/secure/webapps/mpp/h...</td>\n",
              "      <td>good</td>\n",
              "    </tr>\n",
              "    <tr>\n",
              "      <th>freq</th>\n",
              "      <td>146</td>\n",
              "      <td>864585</td>\n",
              "    </tr>\n",
              "  </tbody>\n",
              "</table>\n",
              "</div>"
            ],
            "text/plain": [
              "                                                      url    label\n",
              "count                                             1560855  1560855\n",
              "unique                                            1558231        2\n",
              "top     http://alvaroestrella.com/secure/webapps/mpp/h...     good\n",
              "freq                                                  146   864585"
            ]
          },
          "execution_count": 6,
          "metadata": {},
          "output_type": "execute_result"
        }
      ],
      "source": [
        "# basic info\n",
        "df.info()\n",
        "df.describe()"
      ]
    },
    {
      "cell_type": "code",
      "execution_count": 7,
      "metadata": {
        "colab": {
          "base_uri": "https://localhost:8080/"
        },
        "gather": {
          "logged": 1700805235878
        },
        "id": "JQNvtymypxTd",
        "outputId": "847af5e7-f3fc-4c47-a558-5f7e69443d56"
      },
      "outputs": [
        {
          "data": {
            "text/plain": [
              "2623"
            ]
          },
          "execution_count": 7,
          "metadata": {},
          "output_type": "execute_result"
        }
      ],
      "source": [
        "# find duplicates\n",
        "df.duplicated().sum()"
      ]
    },
    {
      "cell_type": "code",
      "execution_count": 8,
      "metadata": {
        "colab": {
          "base_uri": "https://localhost:8080/"
        },
        "gather": {
          "logged": 1700805236093
        },
        "id": "QwxwQXH2GxMQ",
        "outputId": "6de1ebe9-08c0-4030-c9b8-96292c3fe298"
      },
      "outputs": [
        {
          "data": {
            "text/plain": [
              "url      object\n",
              "label    object\n",
              "dtype: object"
            ]
          },
          "execution_count": 8,
          "metadata": {},
          "output_type": "execute_result"
        }
      ],
      "source": [
        "# check the data types\n",
        "df.dtypes"
      ]
    },
    {
      "cell_type": "code",
      "execution_count": 9,
      "metadata": {
        "colab": {
          "base_uri": "https://localhost:8080/"
        },
        "gather": {
          "logged": 1700805236364
        },
        "id": "t9KLI7Nip90T",
        "outputId": "adcc5a64-380b-450d-d5b1-69fd04278eae"
      },
      "outputs": [
        {
          "name": "stdout",
          "output_type": "stream",
          "text": [
            "Number of bad URLs: 696270\n",
            "Number of good URLs: 864585\n"
          ]
        }
      ],
      "source": [
        "# print the number of bad vs good URLs\n",
        "label_counts = df['label'].value_counts()\n",
        "print(f'Number of bad URLs: {label_counts[\"bad\"]}')\n",
        "print(f'Number of good URLs: {label_counts[\"good\"]}')"
      ]
    },
    {
      "cell_type": "code",
      "execution_count": 10,
      "metadata": {
        "colab": {
          "base_uri": "https://localhost:8080/",
          "height": 472
        },
        "gather": {
          "logged": 1700805236619
        },
        "id": "F9GwBQyepzXF",
        "outputId": "7a3599d2-1354-4d18-a6ad-719fc0839187"
      },
      "outputs": [
        {
          "data": {
            "image/png": "[encoded data removed]",
            "text/plain": [
              "<Figure size 640x480 with 1 Axes>"
            ]
          },
          "metadata": {},
          "output_type": "display_data"
        }
      ],
      "source": [
        "# plot number of URLs in each label\n",
        "label_counts = df['label'].value_counts()\n",
        "plt.bar(label_counts.index, label_counts.values)\n",
        "plt.xlabel('Label')\n",
        "plt.ylabel('No. of URLs')\n",
        "plt.title('URL distribution')\n",
        "plt.show()"
      ]
    },
    {
      "cell_type": "code",
      "execution_count": 11,
      "metadata": {
        "gather": {
          "logged": 1700805238441
        },
        "id": "IkWQ3fYsFMBG"
      },
      "outputs": [],
      "source": [
        "# Data Cleaning\n",
        "df = df.dropna()  # remove missing values\n",
        "df = df.drop_duplicates()  # remove duplicates\n",
        "df['url'] = df['url'].str.lower()  # convert to lowercase"
      ]
    },
    {
      "cell_type": "code",
      "execution_count": 12,
      "metadata": {
        "gather": {
          "logged": 1700805238747
        },
        "id": "T5p07LIy-mEA"
      },
      "outputs": [],
      "source": [
        "# Convert labels to binary format ('good' -> 1, 'bad' -> 0)\n",
        "le = LabelEncoder()\n",
        "df['label'] = le.fit_transform(df['label'])"
      ]
    },
    {
      "cell_type": "code",
      "execution_count": 13,
      "metadata": {
        "colab": {
          "base_uri": "https://localhost:8080/"
        },
        "gather": {
          "logged": 1700805663202
        },
        "id": "fgPOeeEnFQFT",
        "outputId": "2d3fd66b-8864-4973-ed78-0d43fd5ba949"
      },
      "outputs": [
        {
          "name": "stdout",
          "output_type": "stream",
          "text": [
            "length of sequences: 696\n"
          ]
        }
      ],
      "source": [
        "# Initialize the preprocessor and transform the data\n",
        "preprocessor = Preprocessor()\n",
        "X = preprocessor.fit_transform(df)\n",
        "y = df['label']"
      ]
    },
    {
      "cell_type": "code",
      "execution_count": 14,
      "metadata": {
        "gather": {
          "logged": 1700805676145
        },
        "id": "Ythi3ujfFTqO"
      },
      "outputs": [],
      "source": [
        "# Split the data into training and test sets\n",
        "X_tr, X_ts, y_tr, y_ts = train_test_split(X, y, test_size=0.2, random_state=42, shuffle=True)"
      ]
    },
    {
      "cell_type": "code",
      "execution_count": 15,
      "metadata": {
        "gather": {
          "logged": 1700805681426
        },
        "id": "OvJxOVuIggT3"
      },
      "outputs": [
        {
          "name": "stderr",
          "output_type": "stream",
          "text": [
            "2023-11-24 06:01:16.776476: E tensorflow/compiler/xla/stream_executor/cuda/cuda_driver.cc:267] failed call to cuInit: CUDA_ERROR_NO_DEVICE: no CUDA-capable device is detected\n",
            "2023-11-24 06:01:16.778794: I tensorflow/compiler/xla/stream_executor/cuda/cuda_diagnostics.cc:156] kernel driver does not appear to be running on this host (very-much-memoryIGHPUJ): /proc/driver/nvidia/version does not exist\n",
            "2023-11-24 06:01:16.836064: I tensorflow/core/platform/cpu_feature_guard.cc:193] This TensorFlow binary is optimized with oneAPI Deep Neural Network Library (oneDNN) to use the following CPU instructions in performance-critical operations:  AVX2 AVX512F FMA\n",
            "To enable them in other operations, rebuild TensorFlow with the appropriate compiler flags.\n"
          ]
        }
      ],
      "source": [
        "class_weights = compute_class_weight('balanced', classes=np.unique(y_tr), y=y_tr)\n",
        "\n",
        "model = Sequential()\n",
        "model.add(Dense(128, activation='relu', input_shape=(X_tr.shape[1],)))\n",
        "model.add(Dropout(0.5))\n",
        "model.add(Dense(64, activation='relu'))\n",
        "model.add(Dropout(0.5))\n",
        "model.add(Dense(32, activation='relu'))\n",
        "model.add(Dropout(0.5))\n",
        "model.add(Dense(1, activation='sigmoid'))"
      ]
    },
    {
      "cell_type": "code",
      "execution_count": 16,
      "metadata": {
        "gather": {
          "logged": 1700805681594
        },
        "id": "_dTvIJG2kg3R"
      },
      "outputs": [],
      "source": [
        "# Compile the model\n",
        "model.compile(loss='binary_crossentropy', optimizer='adam', metrics=['accuracy'])"
      ]
    },
    {
      "cell_type": "code",
      "execution_count": 17,
      "metadata": {
        "colab": {
          "base_uri": "https://localhost:8080/"
        },
        "gather": {
          "logged": 1700807543691
        },
        "id": "6zAhCrDtFVUQ",
        "outputId": "ed9eecd5-8da4-4b34-d692-47e83e6becc6"
      },
      "outputs": [
        {
          "name": "stderr",
          "output_type": "stream",
          "text": [
            "2023-11-24 06:01:37.332999: W tensorflow/tsl/framework/cpu_allocator_impl.cc:82] Allocation of 11413732260 exceeds 10% of free system memory.\n",
            "2023-11-24 06:04:16.324590: W tensorflow/tsl/framework/cpu_allocator_impl.cc:82] Allocation of 2853439932 exceeds 10% of free system memory.\n"
          ]
        },
        {
          "name": "stdout",
          "output_type": "stream",
          "text": [
            "Epoch 1/50\n",
            "38956/38956 [==============================] - 137s 3ms/step - loss: 0.2524 - accuracy: 0.8962 - val_loss: 0.1883 - val_accuracy: 0.9219\b\b\b\b\b\b\b\b\b\b\b\b\b\b\b\b\b\b\b\b\b\b\b\b\b\b\b\b\b\b\b\b\b\b\b\b\b\b\b\b\b\b\b\b\b\b\b\b\b\b\b\b\n",
            "Epoch 2/50\n",
            "38956/38956 [==============================] - 131s 3ms/step - loss: 0.2178 - accuracy: 0.9132 - val_loss: 0.1783 - val_accuracy: 0.9282\b\b\b\b\b\b\b\b\b\b\b\b\b\b\b\b\b\b\b\b\b\b\b\b\b\b\b\b\b\b\b\b\b\b\b\b\b\b\b\b\b\b\b\b\n",
            "Epoch 3/50\n",
            "38956/38956 [==============================] - 126s 3ms/step - loss: 0.2102 - accuracy: 0.9175 - val_loss: 0.1733 - val_accuracy: 0.9305\b\b\b\b\b\b\b\b\b\b\b\b\b\b\b\b\b\b\b\b\b\b\b\b\b\b\b\b\b\b\b\b\b\b\b\b\b\b\b\b\b\b\b\b\n",
            "Epoch 4/50\n",
            "38956/38956 [==============================] - 130s 3ms/step - loss: 0.2050 - accuracy: 0.9201 - val_loss: 0.1649 - val_accuracy: 0.9358\b\b\b\b\b\b\b\b\b\b\b\b\b\b\b\b\b\b\b\b\b\b\b\b\b\b\b\b\b\b\b\b\b\b\b\b\b\b\b\b\b\b\b\b\n",
            "Epoch 5/50\n",
            "38956/38956 [==============================] - 129s 3ms/step - loss: 0.2018 - accuracy: 0.9219 - val_loss: 0.1796 - val_accuracy: 0.9283\b\b\b\b\b\b\b\b\b\b\b\b\b\b\b\b\b\b\b\b\b\b\b\b\b\b\b\b\b\b\b\b\b\b\b\b\b\b\b\b\b\b\b\b\n",
            "Epoch 6/50\n",
            "38956/38956 [==============================] - 126s 3ms/step - loss: 0.2010 - accuracy: 0.9226 - val_loss: 0.1612 - val_accuracy: 0.9368\b\b\b\b\b\b\b\b\b\b\b\b\b\b\b\b\b\b\b\b\b\b\b\b\b\b\b\b\b\b\b\b\b\b\b\b\b\b\b\b\b\b\b\b\n",
            "Epoch 7/50\n",
            "38956/38956 [==============================] - 131s 3ms/step - loss: 0.2000 - accuracy: 0.9233 - val_loss: 0.1615 - val_accuracy: 0.9359\b\b\b\b\b\b\b\b\b\b\b\b\b\b\b\b\b\b\b\b\b\b\b\b\b\b\b\b\b\b\b\b\b\b\b\b\b\b\b\b\b\b\b\b\n",
            "Epoch 8/50\n",
            "38956/38956 [==============================] - 130s 3ms/step - loss: 0.1976 - accuracy: 0.9238 - val_loss: 0.1588 - val_accuracy: 0.9356\b\b\b\b\b\b\b\b\b\b\b\b\b\b\b\b\b\b\b\b\b\b\b\b\b\b\b\b\b\b\b\b\b\b\b\b\b\b\b\b\b\b\b\b\n",
            "Epoch 9/50\n",
            "38956/38956 [==============================] - 129s 3ms/step - loss: 0.1957 - accuracy: 0.9240 - val_loss: 0.1556 - val_accuracy: 0.9374\b\b\b\b\b\b\b\b\b\b\b\b\b\b\b\b\b\b\b\b\b\b\b\b\b\b\b\b\b\b\b\b\b\b\b\b\b\b\b\b\b\b\b\b\n",
            "Epoch 10/50\n",
            "38956/38956 [==============================] - 127s 3ms/step - loss: 0.1955 - accuracy: 0.9241 - val_loss: 0.1579 - val_accuracy: 0.9375\b\b\b\b\b\b\b\b\b\b\b\b\b\b\b\b\b\b\b\b\b\b\b\b\b\b\b\b\b\b\b\b\b\b\b\b\b\b\b\b\b\b\b\b\n",
            "Epoch 11/50\n",
            "38956/38956 [==============================] - 129s 3ms/step - loss: 0.1950 - accuracy: 0.9246 - val_loss: 0.1553 - val_accuracy: 0.9388\b\b\b\b\b\b\b\b\b\b\b\b\b\b\b\b\b\b\b\b\b\b\b\b\b\b\b\b\b\b\b\b\b\b\b\b\b\b\b\b\b\b\b\b\n",
            "Epoch 12/50\n",
            "38956/38956 [==============================] - 129s 3ms/step - loss: 0.1934 - accuracy: 0.9246 - val_loss: 0.1559 - val_accuracy: 0.9380\b\b\b\b\b\b\b\b\b\b\b\b\b\b\b\b\b\b\b\b\b\b\b\b\b\b\b\b\b\b\b\b\b\b\b\b\b\b\b\b\b\b\b\b\n",
            "Epoch 13/50\n",
            "38956/38956 [==============================] - 127s 3ms/step - loss: 0.1935 - accuracy: 0.9251 - val_loss: 0.1561 - val_accuracy: 0.9380\b\b\b\b\b\b\b\b\b\b\b\b\b\b\b\b\b\b\b\b\b\b\b\b\b\b\b\b\b\b\b\b\b\b\b\b\b\b\b\b\b\b\b\b\n",
            "Epoch 14/50\n",
            "38956/38956 [==============================] - 127s 3ms/step - loss: 0.1931 - accuracy: 0.9255 - val_loss: 0.1560 - val_accuracy: 0.9384\b\b\b\b\b\b\b\b\b\b\b\b\b\b\b\b\b\b\b\b\b\b\b\b\b\b\b\b\b\b\b\b\b\b\b\b\b\b\b\b\b\b\b\b\n"
          ]
        }
      ],
      "source": [
        "# Define early stopping callback\n",
        "early_stopping = EarlyStopping(monitor='val_loss', patience=3, restore_best_weights=True)\n",
        "\n",
        "# Train the model with early stopping\n",
        "history = model.fit(X_tr, y_tr, epochs=50, batch_size=32, validation_data=(X_ts, y_ts), class_weight=dict(enumerate(class_weights)), callbacks=[early_stopping])\n"
      ]
    },
    {
      "cell_type": "code",
      "execution_count": 18,
      "metadata": {
        "colab": {
          "base_uri": "https://localhost:8080/"
        },
        "gather": {
          "logged": 1700807564577
        },
        "id": "XY7NnZ-FFYDG",
        "outputId": "22bda839-5dbb-4db4-a437-8877e6540c35"
      },
      "outputs": [
        {
          "name": "stdout",
          "output_type": "stream",
          "text": [
            "9739/9739 [==============================] - 12s 1ms/step\b\b\b\b\b\b\b\b\b\b\b\b\b\b\b\b\b\b\b\b\b\b\b\b\b\b\b\b\b\b\b\b\b\b\b\b\b\b\b\b\b\b\b\b\b\b\b\b\b\b\b\b\b\n",
            "              precision    recall  f1-score   support\n",
            "\n",
            "           0       0.93      0.94      0.93    138537\n",
            "           1       0.95      0.94      0.94    173110\n",
            "\n",
            "    accuracy                           0.94    311647\n",
            "   macro avg       0.94      0.94      0.94    311647\n",
            "weighted avg       0.94      0.94      0.94    311647\n",
            "\n",
            "[[130003   8534]\n",
            " [ 10538 162572]]\n"
          ]
        },
        {
          "name": "stderr",
          "output_type": "stream",
          "text": [
            "2023-11-24 06:32:22.325946: W tensorflow/tsl/framework/cpu_allocator_impl.cc:82] Allocation of 2853439932 exceeds 10% of free system memory.\n"
          ]
        }
      ],
      "source": [
        "# Evaluate the model\n",
        "y_pred = model.predict(X_ts)\n",
        "y_pred = (y_pred > 0.5).astype(int)\n",
        "print(classification_report(y_ts, y_pred))\n",
        "print(confusion_matrix(y_ts, y_pred))"
      ]
    },
    {
      "cell_type": "code",
      "execution_count": 19,
      "metadata": {
        "gather": {
          "logged": 1700807577711
        },
        "id": "jnFHFiN6FaYk"
      },
      "outputs": [],
      "source": [
        "# Save the model and preprocessor\n",
        "model.save(f'surfhound.h5')\n",
        "with open(f'preprocessor.pkl', 'wb') as f:\n",
        "    pickle.dump(preprocessor, f)"
      ]
    },
    {
      "cell_type": "code",
      "execution_count": 20,
      "metadata": {
        "gather": {
          "logged": 1700807577895
        },
        "id": "1aOXcq4_VfSy"
      },
      "outputs": [],
      "source": [
        "def is_phishing_url(url):\n",
        "    # Load the preprocessor and the model\n",
        "    with open('../server_side_api/preprocessor.pkl', 'rb') as f:\n",
        "        preprocessor = pickle.load(f)\n",
        "    model = load_model('../server_side_api/surfhound.h5')\n",
        "\n",
        "    # Preprocess the URL\n",
        "    df = pd.DataFrame([[url, None ]], columns=['url','label'])\n",
        "    X = preprocessor.transform(df)\n",
        "    print(df)\n",
        "\n",
        "    # Make a prediction\n",
        "    prediction = model.predict(X)\n",
        "\n",
        "    # Return True if the URL is predicted to be phishing, False otherwise\n",
        "    if prediction[0][0] < 0.5:\n",
        "      return True\n",
        "    else:\n",
        "      return False"
      ]
    },
    {
      "cell_type": "code",
      "execution_count": 21,
      "metadata": {
        "colab": {
          "base_uri": "https://localhost:8080/"
        },
        "gather": {
          "logged": 1700771034930
        },
        "id": "LGcbpT1hXMCz",
        "jupyter": {
          "outputs_hidden": false
        },
        "outputId": "34477e19-336c-434a-9f29-fbe48449ef89"
      },
      "outputs": [
        {
          "name": "stdout",
          "output_type": "stream",
          "text": [
            "          url label  url_length  num_digits  num_letters  num_special_chars  \\\n",
            "0  google.com  None          10           0            9                  1   \n",
            "\n",
            "   num_dots  num_slashes  num_hyphens  num_subdomains  has_https  tld_length  \\\n",
            "0         1            0            0               1          0           3   \n",
            "\n",
            "   has_ip  has_redirects  \n",
            "0       0              0  \n",
            "1/1 [==============================] - 0s 169ms/step\b\b\b\b\b\b\b\b\b\b\b\b\b\b\b\b\b\b\b\b\b\b\b\b\b\b\b\b\b\b\b\b\b\b\b\b\b\b\b\b\n",
            "True\n",
            "                  url label  url_length  num_digits  num_letters  \\\n",
            "0  https://google.com  None          18           0           14   \n",
            "\n",
            "   num_special_chars  num_dots  num_slashes  num_hyphens  num_subdomains  \\\n",
            "0                  4         1            2            0               1   \n",
            "\n",
            "   has_https  tld_length  has_ip  has_redirects  \n",
            "0          1           3       0              1  \n",
            "1/1 [==============================] - 0s 76ms/step\b\b\b\b\b\b\b\b\b\b\b\b\b\b\b\b\b\b\b\b\b\b\b\b\b\b\b\b\b\b\b\b\b\b\b\b\b\b\b\b\b\n",
            "False\n",
            "                     url label  url_length  num_digits  num_letters  \\\n",
            "0  https://www.chess.com  None          21           0           16   \n",
            "\n",
            "   num_special_chars  num_dots  num_slashes  num_hyphens  num_subdomains  \\\n",
            "0                  5         2            2            0               2   \n",
            "\n",
            "   has_https  tld_length  has_ip  has_redirects  \n",
            "0          1           3       0              1  \n",
            "1/1 [==============================] - 0s 77ms/step\b\b\b\b\b\b\b\b\b\b\b\b\b\b\b\b\b\b\b\b\b\b\b\b\b\b\b\b\b\b\b\b\b\b\b\b\b\b\b\b\b\n",
            "False\n",
            "                     url label  url_length  num_digits  num_letters  \\\n",
            "0  https://www.chess.com  None          21           0           16   \n",
            "\n",
            "   num_special_chars  num_dots  num_slashes  num_hyphens  num_subdomains  \\\n",
            "0                  5         2            2            0               2   \n",
            "\n",
            "   has_https  tld_length  has_ip  has_redirects  \n",
            "0          1           3       0              1  \n",
            "WARNING:tensorflow:5 out of the last 9743 calls to <function Model.make_predict_function.<locals>.predict_function at 0x7fac46471af0> triggered tf.function retracing. Tracing is expensive and the excessive number of tracings could be due to (1) creating @tf.function repeatedly in a loop, (2) passing tensors with different shapes, (3) passing Python objects instead of tensors. For (1), please define your @tf.function outside of the loop. For (2), @tf.function has reduce_retracing=True option that can avoid unnecessary retracing. For (3), please refer to https://www.tensorflow.org/guide/function#controlling_retracing and https://www.tensorflow.org/api_docs/python/tf/function for  more details.\n",
            "1/1 [==============================] - 0s 76ms/step\b\b\b\b\b\b\b\b\b\b\b\b\b\b\b\b\b\b\b\b\b\b\b\b\b\b\b\b\b\b\b\b\b\b\b\b\b\b\b\b\b\n",
            "False\n",
            "                  url label  url_length  num_digits  num_letters  \\\n",
            "0  https;//google.com  None          18           0           14   \n",
            "\n",
            "   num_special_chars  num_dots  num_slashes  num_hyphens  num_subdomains  \\\n",
            "0                  4         1            2            0               1   \n",
            "\n",
            "   has_https  tld_length  has_ip  has_redirects  \n",
            "0          0           0       0              1  \n",
            "WARNING:tensorflow:6 out of the last 9744 calls to <function Model.make_predict_function.<locals>.predict_function at 0x7fabed31d0d0> triggered tf.function retracing. Tracing is expensive and the excessive number of tracings could be due to (1) creating @tf.function repeatedly in a loop, (2) passing tensors with different shapes, (3) passing Python objects instead of tensors. For (1), please define your @tf.function outside of the loop. For (2), @tf.function has reduce_retracing=True option that can avoid unnecessary retracing. For (3), please refer to https://www.tensorflow.org/guide/function#controlling_retracing and https://www.tensorflow.org/api_docs/python/tf/function for  more details.\n",
            "1/1 [==============================] - 0s 78ms/step\b\b\b\b\b\b\b\b\b\b\b\b\b\b\b\b\b\b\b\b\b\b\b\b\b\b\b\b\b\b\b\b\b\b\b\b\b\b\b\b\b\n",
            "True\n",
            "                  url label  url_length  num_digits  num_letters  \\\n",
            "0  https://google.com  None          18           0           14   \n",
            "\n",
            "   num_special_chars  num_dots  num_slashes  num_hyphens  num_subdomains  \\\n",
            "0                  4         1            2            0               1   \n",
            "\n",
            "   has_https  tld_length  has_ip  has_redirects  \n",
            "0          1           3       0              1  \n",
            "1/1 [==============================] - 0s 76ms/step\b\b\b\b\b\b\b\b\b\b\b\b\b\b\b\b\b\b\b\b\b\b\b\b\b\b\b\b\b\b\b\b\b\b\b\b\b\b\b\b\b\n",
            "False\n",
            "                 url label  url_length  num_digits  num_letters  \\\n",
            "0  http://google.com  None          17           0           13   \n",
            "\n",
            "   num_special_chars  num_dots  num_slashes  num_hyphens  num_subdomains  \\\n",
            "0                  4         1            2            0               1   \n",
            "\n",
            "   has_https  tld_length  has_ip  has_redirects  \n",
            "0          0           3       0              1  \n",
            "1/1 [==============================] - 0s 77ms/step\b\b\b\b\b\b\b\b\b\b\b\b\b\b\b\b\b\b\b\b\b\b\b\b\b\b\b\b\b\b\b\b\b\b\b\b\b\b\b\b\b\n",
            "True\n",
            "                url label  url_length  num_digits  num_letters  \\\n",
            "0  http://chess.com  None          16           0           12   \n",
            "\n",
            "   num_special_chars  num_dots  num_slashes  num_hyphens  num_subdomains  \\\n",
            "0                  4         1            2            0               1   \n",
            "\n",
            "   has_https  tld_length  has_ip  has_redirects  \n",
            "0          0           3       0              1  \n",
            "1/1 [==============================] - 0s 172ms/step\b\b\b\b\b\b\b\b\b\b\b\b\b\b\b\b\b\b\b\b\b\b\b\b\b\b\b\b\b\b\b\b\b\b\b\b\b\b\b\b\n",
            "False\n",
            "                url label  url_length  num_digits  num_letters  \\\n",
            "0  http://chess.com  None          16           0           12   \n",
            "\n",
            "   num_special_chars  num_dots  num_slashes  num_hyphens  num_subdomains  \\\n",
            "0                  4         1            2            0               1   \n",
            "\n",
            "   has_https  tld_length  has_ip  has_redirects  \n",
            "0          0           3       0              1  \n",
            "1/1 [==============================] - 0s 81ms/step\b\b\b\b\b\b\b\b\b\b\b\b\b\b\b\b\b\b\b\b\b\b\b\b\b\b\b\b\b\b\b\b\b\b\b\b\b\b\b\b\b\n",
            "False\n",
            "                     url label  url_length  num_digits  num_letters  \\\n",
            "0  http://strathmore.edu  None          21           0           17   \n",
            "\n",
            "   num_special_chars  num_dots  num_slashes  num_hyphens  num_subdomains  \\\n",
            "0                  4         1            2            0               1   \n",
            "\n",
            "   has_https  tld_length  has_ip  has_redirects  \n",
            "0          0           3       0              1  \n",
            "1/1 [==============================] - 0s 77ms/step\b\b\b\b\b\b\b\b\b\b\b\b\b\b\b\b\b\b\b\b\b\b\b\b\b\b\b\b\b\b\b\b\b\b\b\b\b\b\b\b\b\n",
            "False\n",
            "                  url label  url_length  num_digits  num_letters  \\\n",
            "0  http://youtube.com  None          18           0           14   \n",
            "\n",
            "   num_special_chars  num_dots  num_slashes  num_hyphens  num_subdomains  \\\n",
            "0                  4         1            2            0               1   \n",
            "\n",
            "   has_https  tld_length  has_ip  has_redirects  \n",
            "0          0           3       0              1  \n",
            "1/1 [==============================] - 0s 75ms/step\b\b\b\b\b\b\b\b\b\b\b\b\b\b\b\b\b\b\b\b\b\b\b\b\b\b\b\b\b\b\b\b\b\b\b\b\b\b\b\b\b\n",
            "True\n",
            "                  url label  url_length  num_digits  num_letters  \\\n",
            "0  http://youtube.com  None          18           0           14   \n",
            "\n",
            "   num_special_chars  num_dots  num_slashes  num_hyphens  num_subdomains  \\\n",
            "0                  4         1            2            0               1   \n",
            "\n",
            "   has_https  tld_length  has_ip  has_redirects  \n",
            "0          0           3       0              1  \n",
            "1/1 [==============================] - 0s 77ms/step\b\b\b\b\b\b\b\b\b\b\b\b\b\b\b\b\b\b\b\b\b\b\b\b\b\b\b\b\b\b\b\b\b\b\b\b\b\b\b\b\b\n",
            "True\n",
            "                   url label  url_length  num_digits  num_letters  \\\n",
            "0  https://youtube.com  None          19           0           15   \n",
            "\n",
            "   num_special_chars  num_dots  num_slashes  num_hyphens  num_subdomains  \\\n",
            "0                  4         1            2            0               1   \n",
            "\n",
            "   has_https  tld_length  has_ip  has_redirects  \n",
            "0          1           3       0              1  \n",
            "1/1 [==============================] - 0s 78ms/step\b\b\b\b\b\b\b\b\b\b\b\b\b\b\b\b\b\b\b\b\b\b\b\b\b\b\b\b\b\b\b\b\b\b\b\b\b\b\b\b\b\n",
            "False\n"
          ]
        }
      ],
      "source": [
        "while(True):\n",
        "    bad_url = input(\"Enter a url: \")\n",
        "    print(is_phishing_url(bad_url))"
      ]
    }
  ],
  "metadata": {
    "accelerator": "TPU",
    "colab": {
      "provenance": []
    },
    "kernel_info": {
      "name": "surfhound"
    },
    "kernelspec": {
      "display_name": "surfhound",
      "language": "python",
      "name": "python3"
    },
    "language_info": {
      "codemirror_mode": {
        "name": "ipython",
        "version": 3
      },
      "file_extension": ".py",
      "mimetype": "text/x-python",
      "name": "python",
      "nbconvert_exporter": "python",
      "pygments_lexer": "ipython3",
      "version": "3.11.5"
    },
    "microsoft": {
      "host": {
        "AzureML": {
          "notebookHasBeenCompleted": true
        }
      },
      "ms_spell_check": {
        "ms_spell_check_language": "en"
      }
    },
    "nteract": {
      "version": "nteract-front-end@1.0.0"
    }
  },
  "nbformat": 4,
  "nbformat_minor": 0
}
