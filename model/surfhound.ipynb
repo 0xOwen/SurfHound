{
  "cells": [
    {
      "cell_type": "code",
      "execution_count": 1,
      "metadata": {
        "colab": {
          "base_uri": "https://localhost:8080/"
        },
        "id": "8WrEcrjF2zTs",
        "outputId": "eae6bea5-c246-401f-aa0e-684230bb16b1"
      },
      "outputs": [
        {
          "name": "stdout",
          "output_type": "stream",
          "text": [
            "Collecting tldextract\n",
            "  Downloading tldextract-5.1.0-py3-none-any.whl (97 kB)\n",
            "\u001b[?25l     \u001b[90m━━━━━━━━━━━━━━━━━━━━━━━━━━━━━━━━━━━━━━━━\u001b[0m \u001b[32m0.0/97.7 kB\u001b[0m \u001b[31m?\u001b[0m eta \u001b[36m-:--:--\u001b[0m\r\u001b[2K     \u001b[91m━━━━━━━━━━━━━━━━━━━━━━━━━━━━━━━━━━━━━\u001b[0m\u001b[91m╸\u001b[0m\u001b[90m━━\u001b[0m \u001b[32m92.2/97.7 kB\u001b[0m \u001b[31m2.9 MB/s\u001b[0m eta \u001b[36m0:00:01\u001b[0m\r\u001b[2K     \u001b[90m━━━━━━━━━━━━━━━━━━━━━━━━━━━━━━━━━━━━━━━━\u001b[0m \u001b[32m97.7/97.7 kB\u001b[0m \u001b[31m2.4 MB/s\u001b[0m eta \u001b[36m0:00:00\u001b[0m\n",
            "\u001b[?25hRequirement already satisfied: idna in /usr/local/lib/python3.10/dist-packages (from tldextract) (3.4)\n",
            "Requirement already satisfied: requests>=2.1.0 in /usr/local/lib/python3.10/dist-packages (from tldextract) (2.31.0)\n",
            "Collecting requests-file>=1.4 (from tldextract)\n",
            "  Downloading requests_file-1.5.1-py2.py3-none-any.whl (3.7 kB)\n",
            "Requirement already satisfied: filelock>=3.0.8 in /usr/local/lib/python3.10/dist-packages (from tldextract) (3.13.1)\n",
            "Requirement already satisfied: charset-normalizer<4,>=2 in /usr/local/lib/python3.10/dist-packages (from requests>=2.1.0->tldextract) (3.3.2)\n",
            "Requirement already satisfied: urllib3<3,>=1.21.1 in /usr/local/lib/python3.10/dist-packages (from requests>=2.1.0->tldextract) (2.0.7)\n",
            "Requirement already satisfied: certifi>=2017.4.17 in /usr/local/lib/python3.10/dist-packages (from requests>=2.1.0->tldextract) (2023.7.22)\n",
            "Requirement already satisfied: six in /usr/local/lib/python3.10/dist-packages (from requests-file>=1.4->tldextract) (1.16.0)\n",
            "Installing collected packages: requests-file, tldextract\n",
            "Successfully installed requests-file-1.5.1 tldextract-5.1.0\n"
          ]
        }
      ],
      "source": [
        "!pip install tldextract"
      ]
    },
    {
      "cell_type": "code",
      "execution_count": 1,
      "metadata": {
        "gather": {
          "logged": 1700061520505
        },
        "id": "aJNaHNTy84fU"
      },
      "outputs": [
        {
          "name": "stderr",
          "output_type": "stream",
          "text": [
            "2023-11-22 19:41:41.321099: I tensorflow/core/platform/cpu_feature_guard.cc:182] This TensorFlow binary is optimized to use available CPU instructions in performance-critical operations.\n",
            "To enable the following instructions: SSE4.1 SSE4.2 AVX AVX2 AVX512F AVX512_VNNI FMA, in other operations, rebuild TensorFlow with the appropriate compiler flags.\n"
          ]
        }
      ],
      "source": [
        "import pandas as pd\n",
        "import matplotlib.pyplot as plt\n",
        "from sklearn.preprocessing import LabelEncoder\n",
        "from sklearn.model_selection import train_test_split\n",
        "from sklearn.metrics import classification_report, confusion_matrix\n",
        "from sklearn.utils import shuffle\n",
        "from sklearn.utils.class_weight import compute_class_weight\n",
        "from tensorflow.keras.models import Sequential, load_model\n",
        "from tensorflow.keras.layers import Dense, Dropout\n",
        "from tensorflow.keras.callbacks import EarlyStopping\n",
        "from sklearn.utils.class_weight import compute_class_weight\n",
        "import pickle\n",
        "from utils import Preprocessor\n",
        "import numpy as np"
      ]
    },
    {
      "cell_type": "code",
      "execution_count": 3,
      "metadata": {
        "gather": {
          "logged": 1700061537889
        },
        "id": "CaJkJRREFHSb"
      },
      "outputs": [],
      "source": [
        "# Load dataset\n",
        "df = pd.read_csv('phishing_site_urls.csv')"
      ]
    },
    {
      "cell_type": "markdown",
      "metadata": {
        "id": "C9vMPTwyprZS"
      },
      "source": [
        "EXPLORATORY DATASET ANALYSIS"
      ]
    },
    {
      "cell_type": "code",
      "execution_count": 4,
      "metadata": {
        "colab": {
          "base_uri": "https://localhost:8080/",
          "height": 331
        },
        "gather": {
          "logged": 1700061542534
        },
        "id": "ZcetkRh5potE",
        "outputId": "526946fe-4e21-4e6b-df0e-8a35a8bfd8e7"
      },
      "outputs": [
        {
          "name": "stdout",
          "output_type": "stream",
          "text": [
            "<class 'pandas.core.frame.DataFrame'>\n",
            "RangeIndex: 549346 entries, 0 to 549345\n",
            "Data columns (total 2 columns):\n",
            " #   Column  Non-Null Count   Dtype \n",
            "---  ------  --------------   ----- \n",
            " 0   url     549346 non-null  object\n",
            " 1   label   549346 non-null  object\n",
            "dtypes: object(2)\n",
            "memory usage: 8.4+ MB\n"
          ]
        },
        {
          "data": {
            "text/html": [
              "\n",
              "  <div id=\"df-459107dd-f279-45ff-95ff-eec57b6f93d1\" class=\"colab-df-container\">\n",
              "    <div>\n",
              "<style scoped>\n",
              "    .dataframe tbody tr th:only-of-type {\n",
              "        vertical-align: middle;\n",
              "    }\n",
              "\n",
              "    .dataframe tbody tr th {\n",
              "        vertical-align: top;\n",
              "    }\n",
              "\n",
              "    .dataframe thead th {\n",
              "        text-align: right;\n",
              "    }\n",
              "</style>\n",
              "<table border=\"1\" class=\"dataframe\">\n",
              "  <thead>\n",
              "    <tr style=\"text-align: right;\">\n",
              "      <th></th>\n",
              "      <th>url</th>\n",
              "      <th>label</th>\n",
              "    </tr>\n",
              "  </thead>\n",
              "  <tbody>\n",
              "    <tr>\n",
              "      <th>count</th>\n",
              "      <td>549346</td>\n",
              "      <td>549346</td>\n",
              "    </tr>\n",
              "    <tr>\n",
              "      <th>unique</th>\n",
              "      <td>507195</td>\n",
              "      <td>2</td>\n",
              "    </tr>\n",
              "    <tr>\n",
              "      <th>top</th>\n",
              "      <td>jhomitevd2abj3fk.tor2web.org/</td>\n",
              "      <td>good</td>\n",
              "    </tr>\n",
              "    <tr>\n",
              "      <th>freq</th>\n",
              "      <td>52</td>\n",
              "      <td>392924</td>\n",
              "    </tr>\n",
              "  </tbody>\n",
              "</table>\n",
              "</div>\n",
              "    <div class=\"colab-df-buttons\">\n",
              "\n",
              "  <div class=\"colab-df-container\">\n",
              "    <button class=\"colab-df-convert\" onclick=\"convertToInteractive('df-459107dd-f279-45ff-95ff-eec57b6f93d1')\"\n",
              "            title=\"Convert this dataframe to an interactive table.\"\n",
              "            style=\"display:none;\">\n",
              "\n",
              "  <svg xmlns=\"http://www.w3.org/2000/svg\" height=\"24px\" viewBox=\"0 -960 960 960\">\n",
              "    <path d=\"M120-120v-720h720v720H120Zm60-500h600v-160H180v160Zm220 220h160v-160H400v160Zm0 220h160v-160H400v160ZM180-400h160v-160H180v160Zm440 0h160v-160H620v160ZM180-180h160v-160H180v160Zm440 0h160v-160H620v160Z\"/>\n",
              "  </svg>\n",
              "    </button>\n",
              "\n",
              "  <style>\n",
              "    .colab-df-container {\n",
              "      display:flex;\n",
              "      gap: 12px;\n",
              "    }\n",
              "\n",
              "    .colab-df-convert {\n",
              "      background-color: #E8F0FE;\n",
              "      border: none;\n",
              "      border-radius: 50%;\n",
              "      cursor: pointer;\n",
              "      display: none;\n",
              "      fill: #1967D2;\n",
              "      height: 32px;\n",
              "      padding: 0 0 0 0;\n",
              "      width: 32px;\n",
              "    }\n",
              "\n",
              "    .colab-df-convert:hover {\n",
              "      background-color: #E2EBFA;\n",
              "      box-shadow: 0px 1px 2px rgba(60, 64, 67, 0.3), 0px 1px 3px 1px rgba(60, 64, 67, 0.15);\n",
              "      fill: #174EA6;\n",
              "    }\n",
              "\n",
              "    .colab-df-buttons div {\n",
              "      margin-bottom: 4px;\n",
              "    }\n",
              "\n",
              "    [theme=dark] .colab-df-convert {\n",
              "      background-color: #3B4455;\n",
              "      fill: #D2E3FC;\n",
              "    }\n",
              "\n",
              "    [theme=dark] .colab-df-convert:hover {\n",
              "      background-color: #434B5C;\n",
              "      box-shadow: 0px 1px 3px 1px rgba(0, 0, 0, 0.15);\n",
              "      filter: drop-shadow(0px 1px 2px rgba(0, 0, 0, 0.3));\n",
              "      fill: #FFFFFF;\n",
              "    }\n",
              "  </style>\n",
              "\n",
              "    <script>\n",
              "      const buttonEl =\n",
              "        document.querySelector('#df-459107dd-f279-45ff-95ff-eec57b6f93d1 button.colab-df-convert');\n",
              "      buttonEl.style.display =\n",
              "        google.colab.kernel.accessAllowed ? 'block' : 'none';\n",
              "\n",
              "      async function convertToInteractive(key) {\n",
              "        const element = document.querySelector('#df-459107dd-f279-45ff-95ff-eec57b6f93d1');\n",
              "        const dataTable =\n",
              "          await google.colab.kernel.invokeFunction('convertToInteractive',\n",
              "                                                    [key], {});\n",
              "        if (!dataTable) return;\n",
              "\n",
              "        const docLinkHtml = 'Like what you see? Visit the ' +\n",
              "          '<a target=\"_blank\" href=https://colab.research.google.com/notebooks/data_table.ipynb>data table notebook</a>'\n",
              "          + ' to learn more about interactive tables.';\n",
              "        element.innerHTML = '';\n",
              "        dataTable['output_type'] = 'display_data';\n",
              "        await google.colab.output.renderOutput(dataTable, element);\n",
              "        const docLink = document.createElement('div');\n",
              "        docLink.innerHTML = docLinkHtml;\n",
              "        element.appendChild(docLink);\n",
              "      }\n",
              "    </script>\n",
              "  </div>\n",
              "\n",
              "\n",
              "<div id=\"df-818f8d12-6b06-46d0-bd4d-05c5754fd693\">\n",
              "  <button class=\"colab-df-quickchart\" onclick=\"quickchart('df-818f8d12-6b06-46d0-bd4d-05c5754fd693')\"\n",
              "            title=\"Suggest charts\"\n",
              "            style=\"display:none;\">\n",
              "\n",
              "<svg xmlns=\"http://www.w3.org/2000/svg\" height=\"24px\"viewBox=\"0 0 24 24\"\n",
              "     width=\"24px\">\n",
              "    <g>\n",
              "        <path d=\"M19 3H5c-1.1 0-2 .9-2 2v14c0 1.1.9 2 2 2h14c1.1 0 2-.9 2-2V5c0-1.1-.9-2-2-2zM9 17H7v-7h2v7zm4 0h-2V7h2v10zm4 0h-2v-4h2v4z\"/>\n",
              "    </g>\n",
              "</svg>\n",
              "  </button>\n",
              "\n",
              "<style>\n",
              "  .colab-df-quickchart {\n",
              "      --bg-color: #E8F0FE;\n",
              "      --fill-color: #1967D2;\n",
              "      --hover-bg-color: #E2EBFA;\n",
              "      --hover-fill-color: #174EA6;\n",
              "      --disabled-fill-color: #AAA;\n",
              "      --disabled-bg-color: #DDD;\n",
              "  }\n",
              "\n",
              "  [theme=dark] .colab-df-quickchart {\n",
              "      --bg-color: #3B4455;\n",
              "      --fill-color: #D2E3FC;\n",
              "      --hover-bg-color: #434B5C;\n",
              "      --hover-fill-color: #FFFFFF;\n",
              "      --disabled-bg-color: #3B4455;\n",
              "      --disabled-fill-color: #666;\n",
              "  }\n",
              "\n",
              "  .colab-df-quickchart {\n",
              "    background-color: var(--bg-color);\n",
              "    border: none;\n",
              "    border-radius: 50%;\n",
              "    cursor: pointer;\n",
              "    display: none;\n",
              "    fill: var(--fill-color);\n",
              "    height: 32px;\n",
              "    padding: 0;\n",
              "    width: 32px;\n",
              "  }\n",
              "\n",
              "  .colab-df-quickchart:hover {\n",
              "    background-color: var(--hover-bg-color);\n",
              "    box-shadow: 0 1px 2px rgba(60, 64, 67, 0.3), 0 1px 3px 1px rgba(60, 64, 67, 0.15);\n",
              "    fill: var(--button-hover-fill-color);\n",
              "  }\n",
              "\n",
              "  .colab-df-quickchart-complete:disabled,\n",
              "  .colab-df-quickchart-complete:disabled:hover {\n",
              "    background-color: var(--disabled-bg-color);\n",
              "    fill: var(--disabled-fill-color);\n",
              "    box-shadow: none;\n",
              "  }\n",
              "\n",
              "  .colab-df-spinner {\n",
              "    border: 2px solid var(--fill-color);\n",
              "    border-color: transparent;\n",
              "    border-bottom-color: var(--fill-color);\n",
              "    animation:\n",
              "      spin 1s steps(1) infinite;\n",
              "  }\n",
              "\n",
              "  @keyframes spin {\n",
              "    0% {\n",
              "      border-color: transparent;\n",
              "      border-bottom-color: var(--fill-color);\n",
              "      border-left-color: var(--fill-color);\n",
              "    }\n",
              "    20% {\n",
              "      border-color: transparent;\n",
              "      border-left-color: var(--fill-color);\n",
              "      border-top-color: var(--fill-color);\n",
              "    }\n",
              "    30% {\n",
              "      border-color: transparent;\n",
              "      border-left-color: var(--fill-color);\n",
              "      border-top-color: var(--fill-color);\n",
              "      border-right-color: var(--fill-color);\n",
              "    }\n",
              "    40% {\n",
              "      border-color: transparent;\n",
              "      border-right-color: var(--fill-color);\n",
              "      border-top-color: var(--fill-color);\n",
              "    }\n",
              "    60% {\n",
              "      border-color: transparent;\n",
              "      border-right-color: var(--fill-color);\n",
              "    }\n",
              "    80% {\n",
              "      border-color: transparent;\n",
              "      border-right-color: var(--fill-color);\n",
              "      border-bottom-color: var(--fill-color);\n",
              "    }\n",
              "    90% {\n",
              "      border-color: transparent;\n",
              "      border-bottom-color: var(--fill-color);\n",
              "    }\n",
              "  }\n",
              "</style>\n",
              "\n",
              "  <script>\n",
              "    async function quickchart(key) {\n",
              "      const quickchartButtonEl =\n",
              "        document.querySelector('#' + key + ' button');\n",
              "      quickchartButtonEl.disabled = true;  // To prevent multiple clicks.\n",
              "      quickchartButtonEl.classList.add('colab-df-spinner');\n",
              "      try {\n",
              "        const charts = await google.colab.kernel.invokeFunction(\n",
              "            'suggestCharts', [key], {});\n",
              "      } catch (error) {\n",
              "        console.error('Error during call to suggestCharts:', error);\n",
              "      }\n",
              "      quickchartButtonEl.classList.remove('colab-df-spinner');\n",
              "      quickchartButtonEl.classList.add('colab-df-quickchart-complete');\n",
              "    }\n",
              "    (() => {\n",
              "      let quickchartButtonEl =\n",
              "        document.querySelector('#df-818f8d12-6b06-46d0-bd4d-05c5754fd693 button');\n",
              "      quickchartButtonEl.style.display =\n",
              "        google.colab.kernel.accessAllowed ? 'block' : 'none';\n",
              "    })();\n",
              "  </script>\n",
              "</div>\n",
              "    </div>\n",
              "  </div>\n"
            ],
            "text/plain": [
              "                                  url   label\n",
              "count                          549346  549346\n",
              "unique                         507195       2\n",
              "top     jhomitevd2abj3fk.tor2web.org/    good\n",
              "freq                               52  392924"
            ]
          },
          "execution_count": 4,
          "metadata": {},
          "output_type": "execute_result"
        }
      ],
      "source": [
        "# basic info\n",
        "df.info()\n",
        "df.describe()"
      ]
    },
    {
      "cell_type": "code",
      "execution_count": 5,
      "metadata": {
        "colab": {
          "base_uri": "https://localhost:8080/"
        },
        "gather": {
          "logged": 1700061542731
        },
        "id": "JQNvtymypxTd",
        "outputId": "ff98508e-efe4-4b9c-c928-91a508d75557"
      },
      "outputs": [
        {
          "data": {
            "text/plain": [
              "42150"
            ]
          },
          "execution_count": 5,
          "metadata": {},
          "output_type": "execute_result"
        }
      ],
      "source": [
        "# find duplicates\n",
        "df.duplicated().sum()"
      ]
    },
    {
      "cell_type": "code",
      "execution_count": 6,
      "metadata": {
        "colab": {
          "base_uri": "https://localhost:8080/"
        },
        "gather": {
          "logged": 1700061542923
        },
        "id": "QwxwQXH2GxMQ",
        "outputId": "e2f88c4f-b030-4748-b338-1b9db8d624b2"
      },
      "outputs": [
        {
          "data": {
            "text/plain": [
              "url      object\n",
              "label    object\n",
              "dtype: object"
            ]
          },
          "execution_count": 6,
          "metadata": {},
          "output_type": "execute_result"
        }
      ],
      "source": [
        "# check the data types\n",
        "df.dtypes"
      ]
    },
    {
      "cell_type": "code",
      "execution_count": 7,
      "metadata": {
        "colab": {
          "base_uri": "https://localhost:8080/"
        },
        "gather": {
          "logged": 1700061543078
        },
        "id": "t9KLI7Nip90T",
        "outputId": "33e6e873-34ed-4b97-9c47-c48c8a8c8422"
      },
      "outputs": [
        {
          "name": "stdout",
          "output_type": "stream",
          "text": [
            "Number of bad URLs: 156422\n",
            "Number of good URLs: 392924\n"
          ]
        }
      ],
      "source": [
        "# print the number of bad vs good URLs\n",
        "label_counts = df['label'].value_counts()\n",
        "print(f'Number of bad URLs: {label_counts[\"bad\"]}')\n",
        "print(f'Number of good URLs: {label_counts[\"good\"]}')"
      ]
    },
    {
      "cell_type": "code",
      "execution_count": 8,
      "metadata": {
        "colab": {
          "base_uri": "https://localhost:8080/",
          "height": 472
        },
        "gather": {
          "logged": 1700061543244
        },
        "id": "F9GwBQyepzXF",
        "outputId": "dd18790d-d9e5-404a-d003-4add238d876b"
      },
      "outputs": [
        {
          "data": {
            "image/png": "[encoded data removed]",
            "text/plain": [
              "<Figure size 640x480 with 1 Axes>"
            ]
          },
          "metadata": {},
          "output_type": "display_data"
        }
      ],
      "source": [
        "# plot number of URLs in each label\n",
        "label_counts = df['label'].value_counts()\n",
        "plt.bar(label_counts.index, label_counts.values)\n",
        "plt.xlabel('Label')\n",
        "plt.ylabel('No. of URLs')\n",
        "plt.title('URL distribution')\n",
        "plt.show()"
      ]
    },
    {
      "cell_type": "code",
      "execution_count": 9,
      "metadata": {
        "gather": {
          "logged": 1700061543483
        },
        "id": "IkWQ3fYsFMBG"
      },
      "outputs": [],
      "source": [
        "# Data Cleaning\n",
        "df = df.dropna()  # remove missing values\n",
        "df = df.drop_duplicates()  # remove duplicates\n",
        "df['url'] = df['url'].str.lower()  # convert to lowercase"
      ]
    },
    {
      "cell_type": "code",
      "execution_count": 10,
      "metadata": {
        "gather": {
          "logged": 1700061543626
        },
        "id": "T5p07LIy-mEA"
      },
      "outputs": [],
      "source": [
        "# Convert labels to binary format ('good' -> 1, 'bad' -> 0)\n",
        "le = LabelEncoder()\n",
        "df['label'] = le.fit_transform(df['label'])"
      ]
    },
    {
      "cell_type": "code",
      "execution_count": 11,
      "metadata": {
        "colab": {
          "base_uri": "https://localhost:8080/"
        },
        "gather": {
          "logged": 1700061618586
        },
        "id": "fgPOeeEnFQFT",
        "outputId": "5ef37652-327a-45db-b8e7-ff4e689becfc"
      },
      "outputs": [
        {
          "name": "stdout",
          "output_type": "stream",
          "text": [
            "length of sequences: 177\n"
          ]
        }
      ],
      "source": [
        "# Initialize the preprocessor and transform the data\n",
        "preprocessor = Preprocessor()\n",
        "X = preprocessor.fit_transform(df)\n",
        "y = df['label']"
      ]
    },
    {
      "cell_type": "code",
      "execution_count": 12,
      "metadata": {
        "gather": {
          "logged": 1700061620220
        },
        "id": "Ythi3ujfFTqO"
      },
      "outputs": [],
      "source": [
        "# Split the data into training and test sets\n",
        "X_tr, X_ts, y_tr, y_ts = train_test_split(X, y, test_size=0.2, random_state=42, shuffle=True)"
      ]
    },
    {
      "cell_type": "code",
      "execution_count": 13,
      "metadata": {
        "gather": {
          "logged": 1700061621212
        },
        "id": "OvJxOVuIggT3"
      },
      "outputs": [],
      "source": [
        "class_weights = compute_class_weight('balanced', classes=np.unique(y_tr), y=y_tr)\n",
        "\n",
        "model = Sequential()\n",
        "model.add(Dense(128, activation='relu', input_shape=(X_tr.shape[1],)))\n",
        "model.add(Dropout(0.5))\n",
        "model.add(Dense(64, activation='relu'))\n",
        "model.add(Dropout(0.5))\n",
        "model.add(Dense(32, activation='relu'))\n",
        "model.add(Dropout(0.5))\n",
        "model.add(Dense(1, activation='sigmoid'))"
      ]
    },
    {
      "cell_type": "code",
      "execution_count": 14,
      "metadata": {
        "gather": {
          "logged": 1700061621351
        },
        "id": "_dTvIJG2kg3R"
      },
      "outputs": [],
      "source": [
        "# Compile the model\n",
        "model.compile(loss='binary_crossentropy', optimizer='adam', metrics=['accuracy'])"
      ]
    },
    {
      "cell_type": "code",
      "execution_count": 15,
      "metadata": {
        "colab": {
          "base_uri": "https://localhost:8080/"
        },
        "gather": {
          "logged": 1700061920805
        },
        "id": "6zAhCrDtFVUQ",
        "outputId": "f9a4aa97-d3bf-4706-ca61-ffaf46cee74c"
      },
      "outputs": [
        {
          "name": "stdout",
          "output_type": "stream",
          "text": [
            "Epoch 1/50\n",
            "12680/12680 [==============================] - 94s 7ms/step - loss: 0.4080 - accuracy: 0.8373 - val_loss: 0.3012 - val_accuracy: 0.8647\n",
            "Epoch 2/50\n",
            "12680/12680 [==============================] - 83s 7ms/step - loss: 0.3412 - accuracy: 0.8496 - val_loss: 0.2706 - val_accuracy: 0.8767\n",
            "Epoch 3/50\n",
            "12680/12680 [==============================] - 82s 6ms/step - loss: 0.3252 - accuracy: 0.8596 - val_loss: 0.2580 - val_accuracy: 0.8893\n",
            "Epoch 4/50\n",
            "12680/12680 [==============================] - 86s 7ms/step - loss: 0.3163 - accuracy: 0.8648 - val_loss: 0.2642 - val_accuracy: 0.8791\n",
            "Epoch 5/50\n",
            "12680/12680 [==============================] - 87s 7ms/step - loss: 0.3117 - accuracy: 0.8687 - val_loss: 0.2496 - val_accuracy: 0.8845\n",
            "Epoch 6/50\n",
            "12680/12680 [==============================] - 87s 7ms/step - loss: 0.3046 - accuracy: 0.8707 - val_loss: 0.2479 - val_accuracy: 0.8868\n",
            "Epoch 7/50\n",
            "12680/12680 [==============================] - 83s 7ms/step - loss: 0.2998 - accuracy: 0.8727 - val_loss: 0.2460 - val_accuracy: 0.8871\n",
            "Epoch 8/50\n",
            "12680/12680 [==============================] - 86s 7ms/step - loss: 0.2980 - accuracy: 0.8741 - val_loss: 0.2363 - val_accuracy: 0.8951\n",
            "Epoch 9/50\n",
            "12680/12680 [==============================] - 86s 7ms/step - loss: 0.2962 - accuracy: 0.8761 - val_loss: 0.2419 - val_accuracy: 0.8924\n",
            "Epoch 10/50\n",
            "12680/12680 [==============================] - 86s 7ms/step - loss: 0.2918 - accuracy: 0.8751 - val_loss: 0.2282 - val_accuracy: 0.9009\n",
            "Epoch 11/50\n",
            "12680/12680 [==============================] - 84s 7ms/step - loss: 0.2940 - accuracy: 0.8770 - val_loss: 0.2275 - val_accuracy: 0.8979\n",
            "Epoch 12/50\n",
            "12680/12680 [==============================] - 84s 7ms/step - loss: 0.2883 - accuracy: 0.8772 - val_loss: 0.2395 - val_accuracy: 0.8918\n",
            "Epoch 13/50\n",
            "12680/12680 [==============================] - 86s 7ms/step - loss: 0.2917 - accuracy: 0.8790 - val_loss: 0.2310 - val_accuracy: 0.8979\n",
            "Epoch 14/50\n",
            "12680/12680 [==============================] - 86s 7ms/step - loss: 0.2893 - accuracy: 0.8814 - val_loss: 0.2249 - val_accuracy: 0.9024\n",
            "Epoch 15/50\n",
            "12680/12680 [==============================] - 83s 7ms/step - loss: 0.2871 - accuracy: 0.8822 - val_loss: 0.2429 - val_accuracy: 0.8998\n",
            "Epoch 16/50\n",
            "12680/12680 [==============================] - 83s 7ms/step - loss: 0.2875 - accuracy: 0.8817 - val_loss: 0.2244 - val_accuracy: 0.9008\n",
            "Epoch 17/50\n",
            "12680/12680 [==============================] - 82s 7ms/step - loss: 0.2858 - accuracy: 0.8808 - val_loss: 0.2229 - val_accuracy: 0.9042\n",
            "Epoch 18/50\n",
            "12680/12680 [==============================] - 85s 7ms/step - loss: 0.2873 - accuracy: 0.8836 - val_loss: 0.2275 - val_accuracy: 0.9010\n",
            "Epoch 19/50\n",
            "12680/12680 [==============================] - 85s 7ms/step - loss: 0.2850 - accuracy: 0.8825 - val_loss: 0.2264 - val_accuracy: 0.9026\n",
            "Epoch 20/50\n",
            "12680/12680 [==============================] - 89s 7ms/step - loss: 0.2825 - accuracy: 0.8817 - val_loss: 0.2262 - val_accuracy: 0.9033\n"
          ]
        }
      ],
      "source": [
        "# Define early stopping callback\n",
        "early_stopping = EarlyStopping(monitor='val_loss', patience=3, restore_best_weights=True)\n",
        "\n",
        "# Train the model with early stopping\n",
        "history = model.fit(X_tr, y_tr, epochs=50, batch_size=32, validation_data=(X_ts, y_ts), class_weight=dict(enumerate(class_weights)), callbacks=[early_stopping])\n"
      ]
    },
    {
      "cell_type": "code",
      "execution_count": 16,
      "metadata": {
        "colab": {
          "base_uri": "https://localhost:8080/"
        },
        "gather": {
          "logged": 1700061951693
        },
        "id": "XY7NnZ-FFYDG",
        "outputId": "490eabce-ec73-4c51-9c6d-767ee0403c39"
      },
      "outputs": [
        {
          "name": "stdout",
          "output_type": "stream",
          "text": [
            "3170/3170 [==============================] - 7s 2ms/step\n",
            "              precision    recall  f1-score   support\n",
            "\n",
            "           0       0.74      0.89      0.81     22704\n",
            "           1       0.97      0.91      0.94     78736\n",
            "\n",
            "    accuracy                           0.90    101440\n",
            "   macro avg       0.85      0.90      0.87    101440\n",
            "weighted avg       0.92      0.90      0.91    101440\n",
            "\n",
            "[[20278  2426]\n",
            " [ 7297 71439]]\n"
          ]
        }
      ],
      "source": [
        "# Evaluate the model\n",
        "y_pred = model.predict(X_ts)\n",
        "y_pred = (y_pred > 0.5).astype(int)\n",
        "print(classification_report(y_ts, y_pred))\n",
        "print(confusion_matrix(y_ts, y_pred))"
      ]
    },
    {
      "cell_type": "code",
      "execution_count": 3,
      "metadata": {
        "id": "m1C0XSyd_qAb"
      },
      "outputs": [
        {
          "ename": "NameError",
          "evalue": "name 'model' is not defined",
          "output_type": "error",
          "traceback": [
            "\u001b[0;31m---------------------------------------------------------------------------\u001b[0m",
            "\u001b[0;31mNameError\u001b[0m                                 Traceback (most recent call last)",
            "\u001b[1;32m/home/owen/projects/surfhound/model/surfhound.ipynb Cell 18\u001b[0m line \u001b[0;36m2\n\u001b[1;32m      <a href='vscode-notebook-cell:/home/owen/projects/surfhound/model/surfhound.ipynb#X23sZmlsZQ%3D%3D?line=0'>1</a>\u001b[0m \u001b[39m# Save the model and preprocessor\u001b[39;00m\n\u001b[0;32m----> <a href='vscode-notebook-cell:/home/owen/projects/surfhound/model/surfhound.ipynb#X23sZmlsZQ%3D%3D?line=1'>2</a>\u001b[0m model\u001b[39m.\u001b[39msave(\u001b[39mf\u001b[39m\u001b[39m'\u001b[39m\u001b[39msurfhound.h5\u001b[39m\u001b[39m'\u001b[39m)\n\u001b[1;32m      <a href='vscode-notebook-cell:/home/owen/projects/surfhound/model/surfhound.ipynb#X23sZmlsZQ%3D%3D?line=2'>3</a>\u001b[0m \u001b[39mwith\u001b[39;00m \u001b[39mopen\u001b[39m(\u001b[39mf\u001b[39m\u001b[39m'\u001b[39m\u001b[39mpreprocessor.pkl\u001b[39m\u001b[39m'\u001b[39m, \u001b[39m'\u001b[39m\u001b[39mwb\u001b[39m\u001b[39m'\u001b[39m) \u001b[39mas\u001b[39;00m f:\n\u001b[1;32m      <a href='vscode-notebook-cell:/home/owen/projects/surfhound/model/surfhound.ipynb#X23sZmlsZQ%3D%3D?line=3'>4</a>\u001b[0m     pickle\u001b[39m.\u001b[39mdump(preprocessor, f)\n",
            "\u001b[0;31mNameError\u001b[0m: name 'model' is not defined"
          ]
        }
      ],
      "source": [
        "# Save the model and preprocessor\n",
        "model.save(f'surfhound.h5')\n",
        "with open(f'preprocessor.pkl', 'wb') as f:\n",
        "    pickle.dump(preprocessor, f)"
      ]
    },
    {
      "cell_type": "code",
      "execution_count": 6,
      "metadata": {
        "gather": {
          "logged": 1700062186330
        },
        "id": "1aOXcq4_VfSy"
      },
      "outputs": [],
      "source": [
        "def is_phishing_url(url):\n",
        "    # Load the preprocessor and the model\n",
        "    with open('../server_side_api/preprocessor.pkl', 'rb') as f:\n",
        "        preprocessor = pickle.load(f)\n",
        "    model = load_model('../server_side_api/surfhound.h5')\n",
        "\n",
        "    # Preprocess the URL\n",
        "    df = pd.DataFrame([[url, None ]], columns=['url','label'])\n",
        "    X = preprocessor.transform(df)\n",
        "    print(df)\n",
        "\n",
        "    # Make a prediction\n",
        "    prediction = model.predict(X)\n",
        "\n",
        "    # Return True if the URL is predicted to be phishing, False otherwise\n",
        "    if prediction[0][0] < 0.5:\n",
        "      return True\n",
        "    else:\n",
        "      return False"
      ]
    },
    {
      "cell_type": "code",
      "execution_count": 7,
      "metadata": {
        "colab": {
          "base_uri": "https://localhost:8080/"
        },
        "gather": {
          "logged": 1700062157300
        },
        "id": "LGcbpT1hXMCz",
        "outputId": "00448008-77f8-4460-b05c-f83045885bf7"
      },
      "outputs": [
        {
          "name": "stderr",
          "output_type": "stream",
          "text": [
            "2023-11-22 19:44:15.545429: I tensorflow/core/common_runtime/process_util.cc:146] Creating new thread pool with default inter op setting: 2. Tune using inter_op_parallelism_threads for best performance.\n"
          ]
        },
        {
          "name": "stdout",
          "output_type": "stream",
          "text": [
            "          url label  url_length  num_digits  num_letters  num_special_chars  \\\n",
            "0  google.com  None          10           0            9                  1   \n",
            "\n",
            "   num_dots  num_slashes  num_hyphens  num_subdomains  has_https  tld_length  \\\n",
            "0         1            0            0               1          0           3   \n",
            "\n",
            "   has_ip  has_redirects  \n",
            "0       0              0  \n",
            "1/1 [==============================] - 1s 770ms/step\n",
            "True\n"
          ]
        }
      ],
      "source": [
        "    bad_url = input(\"Enter a url: \")\n",
        "    print(is_phishing_url(bad_url))"
      ]
    }
  ],
  "metadata": {
    "accelerator": "TPU",
    "colab": {
      "provenance": []
    },
    "kernel_info": {
      "name": "python38-azureml"
    },
    "kernelspec": {
      "display_name": "surfhound",
      "language": "python",
      "name": "python3"
    },
    "language_info": {
      "codemirror_mode": {
        "name": "ipython",
        "version": 3
      },
      "file_extension": ".py",
      "mimetype": "text/x-python",
      "name": "python",
      "nbconvert_exporter": "python",
      "pygments_lexer": "ipython3",
      "version": "3.11.5"
    },
    "microsoft": {
      "host": {
        "AzureML": {
          "notebookHasBeenCompleted": true
        }
      },
      "ms_spell_check": {
        "ms_spell_check_language": "en"
      }
    },
    "nteract": {
      "version": "nteract-front-end@1.0.0"
    }
  },
  "nbformat": 4,
  "nbformat_minor": 0
}
