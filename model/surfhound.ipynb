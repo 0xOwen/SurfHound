{
  "cells": [
    {
      "cell_type": "code",
      "execution_count": 1,
      "metadata": {
        "id": "uv3v0irTHtay"
      },
      "outputs": [
        {
          "data": {
            "application/vnd.livy.statement-meta+json": {
              "execution_finish_time": "2023-11-13T20:13:22.6519182Z",
              "execution_start_time": "2023-11-13T20:13:16.3190051Z",
              "livy_statement_state": "available",
              "parent_msg_id": "ba65ae03-d89d-4929-92f9-96e2c15e9b59",
              "queued_time": "2023-11-13T20:12:21.0563079Z",
              "session_id": "11",
              "session_start_time": "2023-11-13T20:12:21.1043422Z",
              "spark_jobs": {
                "jobs": [],
                "limit": 20,
                "numbers": {
                  "FAILED": 0,
                  "RUNNING": 0,
                  "SUCCEEDED": 0,
                  "UNKNOWN": 0
                },
                "rule": "ALL_DESC"
              },
              "spark_pool": "d5d52fdd-a565-4043-bb61-4b7680650277",
              "state": "finished",
              "statement_id": 6
            },
            "text/plain": [
              "StatementMeta(d5d52fdd-a565-4043-bb61-4b7680650277, 11, 6, Finished, Available)"
            ]
          },
          "metadata": {},
          "output_type": "display_data"
        },
        {
          "name": "stdout",
          "output_type": "stream",
          "text": [
            "Collecting tldextract\n",
            "  Downloading tldextract-5.1.0-py3-none-any.whl (97 kB)\n",
            "\u001b[K     |████████████████████████████████| 97 kB 7.2 MB/s eta 0:00:011\n",
            "\u001b[?25hCollecting requests-file>=1.4\n",
            "  Downloading requests_file-1.5.1-py2.py3-none-any.whl (3.7 kB)\n",
            "Requirement already satisfied: filelock>=3.0.8 in /home/trusted-service-user/cluster-env/env/lib/python3.8/site-packages (from tldextract) (3.8.0)\n",
            "Requirement already satisfied: requests>=2.1.0 in /home/trusted-service-user/cluster-env/env/lib/python3.8/site-packages (from tldextract) (2.25.1)\n",
            "Requirement already satisfied: idna in /home/trusted-service-user/cluster-env/env/lib/python3.8/site-packages (from tldextract) (2.10)\n",
            "Requirement already satisfied: chardet<5,>=3.0.2 in /home/trusted-service-user/cluster-env/env/lib/python3.8/site-packages (from requests>=2.1.0->tldextract) (4.0.0)\n",
            "Requirement already satisfied: urllib3<1.27,>=1.21.1 in /home/trusted-service-user/cluster-env/env/lib/python3.8/site-packages (from requests>=2.1.0->tldextract) (1.26.4)\n",
            "Requirement already satisfied: certifi>=2017.4.17 in /home/trusted-service-user/cluster-env/env/lib/python3.8/site-packages (from requests>=2.1.0->tldextract) (2021.5.30)\n",
            "Requirement already satisfied: six in /home/trusted-service-user/cluster-env/env/lib/python3.8/site-packages (from requests-file>=1.4->tldextract) (1.16.0)\n",
            "Installing collected packages: requests-file, tldextract\n",
            "Successfully installed requests-file-1.5.1 tldextract-5.1.0\n"
          ]
        }
      ],
      "source": [
        "!pip install tldextract"
      ]
    },
    {
      "cell_type": "code",
      "execution_count": 2,
      "metadata": {
        "gather": {
          "logged": 1699906407795
        },
        "jupyter": {
          "outputs_hidden": false,
          "source_hidden": false
        },
        "nteract": {
          "transient": {
            "deleting": false
          }
        }
      },
      "outputs": [
        {
          "data": {
            "application/vnd.livy.statement-meta+json": {
              "execution_finish_time": "2023-11-13T20:13:23.0417759Z",
              "execution_start_time": "2023-11-13T20:13:22.75356Z",
              "livy_statement_state": "available",
              "parent_msg_id": "ad1dfef9-221f-41cb-845a-df144cbff967",
              "queued_time": "2023-11-13T20:12:21.0575854Z",
              "session_id": "11",
              "session_start_time": null,
              "spark_jobs": {
                "jobs": [],
                "limit": 20,
                "numbers": {
                  "FAILED": 0,
                  "RUNNING": 0,
                  "SUCCEEDED": 0,
                  "UNKNOWN": 0
                },
                "rule": "ALL_DESC"
              },
              "spark_pool": "d5d52fdd-a565-4043-bb61-4b7680650277",
              "state": "finished",
              "statement_id": 7
            },
            "text/plain": [
              "StatementMeta(d5d52fdd-a565-4043-bb61-4b7680650277, 11, 7, Finished, Available)"
            ]
          },
          "metadata": {},
          "output_type": "display_data"
        },
        {
          "name": "stdout",
          "output_type": "stream",
          "text": [
            "/synfs/notebook/11/aml_notebook_mount/Users/Owen.Rotich/\n"
          ]
        }
      ],
      "source": [
        "import os\n",
        "\n",
        "# Get the current working directory\n",
        "cwd = os.getcwd()\n",
        "\n",
        "# Construct the file path\n",
        "file_path = os.path.join(cwd, 'Users/Owen.Rotich/')\n",
        "print(file_path)"
      ]
    },
    {
      "cell_type": "code",
      "execution_count": 3,
      "metadata": {
        "gather": {
          "logged": 1699906408095
        },
        "jupyter": {
          "outputs_hidden": false,
          "source_hidden": false
        },
        "nteract": {
          "transient": {
            "deleting": false
          }
        }
      },
      "outputs": [
        {
          "data": {
            "application/vnd.livy.statement-meta+json": {
              "execution_finish_time": "2023-11-13T20:13:23.4344658Z",
              "execution_start_time": "2023-11-13T20:13:23.1370071Z",
              "livy_statement_state": "available",
              "parent_msg_id": "fa6307c0-13b6-46f3-aad5-df91f2561d7f",
              "queued_time": "2023-11-13T20:12:21.0588379Z",
              "session_id": "11",
              "session_start_time": null,
              "spark_jobs": {
                "jobs": [],
                "limit": 20,
                "numbers": {
                  "FAILED": 0,
                  "RUNNING": 0,
                  "SUCCEEDED": 0,
                  "UNKNOWN": 0
                },
                "rule": "ALL_DESC"
              },
              "spark_pool": "d5d52fdd-a565-4043-bb61-4b7680650277",
              "state": "finished",
              "statement_id": 8
            },
            "text/plain": [
              "StatementMeta(d5d52fdd-a565-4043-bb61-4b7680650277, 11, 8, Finished, Available)"
            ]
          },
          "metadata": {},
          "output_type": "display_data"
        }
      ],
      "source": [
        "import sys\n",
        "\n",
        "# Add the directory containing utils.py to the Python path\n",
        "sys.path.append(os.path.dirname(file_path))"
      ]
    },
    {
      "cell_type": "code",
      "execution_count": 7,
      "metadata": {
        "gather": {
          "logged": 1699906420186
        },
        "id": "aJNaHNTy84fU"
      },
      "outputs": [
        {
          "name": "stderr",
          "output_type": "stream",
          "text": [
            "/home/owen/miniconda3/envs/surfhound/lib/python3.9/site-packages/tensorflow/python/framework/dtypes.py:513: FutureWarning: In the future `np.object` will be defined as the corresponding NumPy scalar.\n",
            "  np.object,\n"
          ]
        },
        {
          "ename": "AttributeError",
          "evalue": "module 'numpy' has no attribute 'object'.\n`np.object` was a deprecated alias for the builtin `object`. To avoid this error in existing code, use `object` by itself. Doing this will not modify any behavior and is safe. \nThe aliases was originally deprecated in NumPy 1.20; for more details and guidance see the original release note at:\n    https://numpy.org/devdocs/release/1.20.0-notes.html#deprecations",
          "output_type": "error",
          "traceback": [
            "\u001b[0;31m---------------------------------------------------------------------------\u001b[0m",
            "\u001b[0;31mAttributeError\u001b[0m                            Traceback (most recent call last)",
            "\u001b[1;32m/home/owen/projects/surfhound/model/surfhound.ipynb Cell 4\u001b[0m line \u001b[0;36m8\n\u001b[1;32m      <a href='vscode-notebook-cell:/home/owen/projects/surfhound/model/surfhound.ipynb#X34sZmlsZQ%3D%3D?line=5'>6</a>\u001b[0m \u001b[39mfrom\u001b[39;00m \u001b[39msklearn\u001b[39;00m\u001b[39m.\u001b[39;00m\u001b[39mutils\u001b[39;00m \u001b[39mimport\u001b[39;00m shuffle\n\u001b[1;32m      <a href='vscode-notebook-cell:/home/owen/projects/surfhound/model/surfhound.ipynb#X34sZmlsZQ%3D%3D?line=6'>7</a>\u001b[0m \u001b[39mfrom\u001b[39;00m \u001b[39msklearn\u001b[39;00m\u001b[39m.\u001b[39;00m\u001b[39mutils\u001b[39;00m\u001b[39m.\u001b[39;00m\u001b[39mclass_weight\u001b[39;00m \u001b[39mimport\u001b[39;00m compute_class_weight\n\u001b[0;32m----> <a href='vscode-notebook-cell:/home/owen/projects/surfhound/model/surfhound.ipynb#X34sZmlsZQ%3D%3D?line=7'>8</a>\u001b[0m \u001b[39mfrom\u001b[39;00m \u001b[39mtensorflow\u001b[39;00m\u001b[39m.\u001b[39;00m\u001b[39mkeras\u001b[39;00m\u001b[39m.\u001b[39;00m\u001b[39mmodels\u001b[39;00m \u001b[39mimport\u001b[39;00m Sequential, load_model\n\u001b[1;32m      <a href='vscode-notebook-cell:/home/owen/projects/surfhound/model/surfhound.ipynb#X34sZmlsZQ%3D%3D?line=8'>9</a>\u001b[0m \u001b[39mfrom\u001b[39;00m \u001b[39mtensorflow\u001b[39;00m\u001b[39m.\u001b[39;00m\u001b[39mkeras\u001b[39;00m\u001b[39m.\u001b[39;00m\u001b[39mlayers\u001b[39;00m \u001b[39mimport\u001b[39;00m Dense, Dropout\n\u001b[1;32m     <a href='vscode-notebook-cell:/home/owen/projects/surfhound/model/surfhound.ipynb#X34sZmlsZQ%3D%3D?line=9'>10</a>\u001b[0m \u001b[39mfrom\u001b[39;00m \u001b[39mtensorflow\u001b[39;00m\u001b[39m.\u001b[39;00m\u001b[39mkeras\u001b[39;00m\u001b[39m.\u001b[39;00m\u001b[39mcallbacks\u001b[39;00m \u001b[39mimport\u001b[39;00m EarlyStopping\n",
            "File \u001b[0;32m~/miniconda3/envs/surfhound/lib/python3.9/site-packages/tensorflow/__init__.py:41\u001b[0m\n\u001b[1;32m     38\u001b[0m \u001b[39mimport\u001b[39;00m \u001b[39msix\u001b[39;00m \u001b[39mas\u001b[39;00m \u001b[39m_six\u001b[39;00m\n\u001b[1;32m     39\u001b[0m \u001b[39mimport\u001b[39;00m \u001b[39msys\u001b[39;00m \u001b[39mas\u001b[39;00m \u001b[39m_sys\u001b[39;00m\n\u001b[0;32m---> 41\u001b[0m \u001b[39mfrom\u001b[39;00m \u001b[39mtensorflow\u001b[39;00m\u001b[39m.\u001b[39;00m\u001b[39mpython\u001b[39;00m\u001b[39m.\u001b[39;00m\u001b[39mtools\u001b[39;00m \u001b[39mimport\u001b[39;00m module_util \u001b[39mas\u001b[39;00m _module_util\n\u001b[1;32m     42\u001b[0m \u001b[39mfrom\u001b[39;00m \u001b[39mtensorflow\u001b[39;00m\u001b[39m.\u001b[39;00m\u001b[39mpython\u001b[39;00m\u001b[39m.\u001b[39;00m\u001b[39mutil\u001b[39;00m\u001b[39m.\u001b[39;00m\u001b[39mlazy_loader\u001b[39;00m \u001b[39mimport\u001b[39;00m LazyLoader \u001b[39mas\u001b[39;00m _LazyLoader\n\u001b[1;32m     44\u001b[0m \u001b[39m# Make sure code inside the TensorFlow codebase can use tf2.enabled() at import.\u001b[39;00m\n",
            "File \u001b[0;32m~/miniconda3/envs/surfhound/lib/python3.9/site-packages/tensorflow/python/__init__.py:46\u001b[0m\n\u001b[1;32m     41\u001b[0m \u001b[39mfrom\u001b[39;00m \u001b[39mtensorflow\u001b[39;00m\u001b[39m.\u001b[39;00m\u001b[39mpython\u001b[39;00m\u001b[39m.\u001b[39;00m\u001b[39meager\u001b[39;00m \u001b[39mimport\u001b[39;00m context\n\u001b[1;32m     43\u001b[0m \u001b[39m# pylint: enable=wildcard-import\u001b[39;00m\n\u001b[1;32m     44\u001b[0m \n\u001b[1;32m     45\u001b[0m \u001b[39m# Bring in subpackages.\u001b[39;00m\n\u001b[0;32m---> 46\u001b[0m \u001b[39mfrom\u001b[39;00m \u001b[39mtensorflow\u001b[39;00m\u001b[39m.\u001b[39;00m\u001b[39mpython\u001b[39;00m \u001b[39mimport\u001b[39;00m data\n\u001b[1;32m     47\u001b[0m \u001b[39mfrom\u001b[39;00m \u001b[39mtensorflow\u001b[39;00m\u001b[39m.\u001b[39;00m\u001b[39mpython\u001b[39;00m \u001b[39mimport\u001b[39;00m distribute\n\u001b[1;32m     48\u001b[0m \u001b[39mfrom\u001b[39;00m \u001b[39mtensorflow\u001b[39;00m\u001b[39m.\u001b[39;00m\u001b[39mpython\u001b[39;00m \u001b[39mimport\u001b[39;00m keras\n",
            "File \u001b[0;32m~/miniconda3/envs/surfhound/lib/python3.9/site-packages/tensorflow/python/data/__init__.py:25\u001b[0m\n\u001b[1;32m     22\u001b[0m \u001b[39mfrom\u001b[39;00m \u001b[39m__future__\u001b[39;00m \u001b[39mimport\u001b[39;00m print_function\n\u001b[1;32m     24\u001b[0m \u001b[39m# pylint: disable=unused-import\u001b[39;00m\n\u001b[0;32m---> 25\u001b[0m \u001b[39mfrom\u001b[39;00m \u001b[39mtensorflow\u001b[39;00m\u001b[39m.\u001b[39;00m\u001b[39mpython\u001b[39;00m\u001b[39m.\u001b[39;00m\u001b[39mdata\u001b[39;00m \u001b[39mimport\u001b[39;00m experimental\n\u001b[1;32m     26\u001b[0m \u001b[39mfrom\u001b[39;00m \u001b[39mtensorflow\u001b[39;00m\u001b[39m.\u001b[39;00m\u001b[39mpython\u001b[39;00m\u001b[39m.\u001b[39;00m\u001b[39mdata\u001b[39;00m\u001b[39m.\u001b[39;00m\u001b[39mops\u001b[39;00m\u001b[39m.\u001b[39;00m\u001b[39mdataset_ops\u001b[39;00m \u001b[39mimport\u001b[39;00m AUTOTUNE\n\u001b[1;32m     27\u001b[0m \u001b[39mfrom\u001b[39;00m \u001b[39mtensorflow\u001b[39;00m\u001b[39m.\u001b[39;00m\u001b[39mpython\u001b[39;00m\u001b[39m.\u001b[39;00m\u001b[39mdata\u001b[39;00m\u001b[39m.\u001b[39;00m\u001b[39mops\u001b[39;00m\u001b[39m.\u001b[39;00m\u001b[39mdataset_ops\u001b[39;00m \u001b[39mimport\u001b[39;00m Dataset\n",
            "File \u001b[0;32m~/miniconda3/envs/surfhound/lib/python3.9/site-packages/tensorflow/python/data/experimental/__init__.py:96\u001b[0m\n\u001b[1;32m     93\u001b[0m \u001b[39mfrom\u001b[39;00m \u001b[39m__future__\u001b[39;00m \u001b[39mimport\u001b[39;00m print_function\n\u001b[1;32m     95\u001b[0m \u001b[39m# pylint: disable=unused-import\u001b[39;00m\n\u001b[0;32m---> 96\u001b[0m \u001b[39mfrom\u001b[39;00m \u001b[39mtensorflow\u001b[39;00m\u001b[39m.\u001b[39;00m\u001b[39mpython\u001b[39;00m\u001b[39m.\u001b[39;00m\u001b[39mdata\u001b[39;00m\u001b[39m.\u001b[39;00m\u001b[39mexperimental\u001b[39;00m \u001b[39mimport\u001b[39;00m service\n\u001b[1;32m     97\u001b[0m \u001b[39mfrom\u001b[39;00m \u001b[39mtensorflow\u001b[39;00m\u001b[39m.\u001b[39;00m\u001b[39mpython\u001b[39;00m\u001b[39m.\u001b[39;00m\u001b[39mdata\u001b[39;00m\u001b[39m.\u001b[39;00m\u001b[39mexperimental\u001b[39;00m\u001b[39m.\u001b[39;00m\u001b[39mops\u001b[39;00m\u001b[39m.\u001b[39;00m\u001b[39mbatching\u001b[39;00m \u001b[39mimport\u001b[39;00m dense_to_ragged_batch\n\u001b[1;32m     98\u001b[0m \u001b[39mfrom\u001b[39;00m \u001b[39mtensorflow\u001b[39;00m\u001b[39m.\u001b[39;00m\u001b[39mpython\u001b[39;00m\u001b[39m.\u001b[39;00m\u001b[39mdata\u001b[39;00m\u001b[39m.\u001b[39;00m\u001b[39mexperimental\u001b[39;00m\u001b[39m.\u001b[39;00m\u001b[39mops\u001b[39;00m\u001b[39m.\u001b[39;00m\u001b[39mbatching\u001b[39;00m \u001b[39mimport\u001b[39;00m dense_to_sparse_batch\n",
            "File \u001b[0;32m~/miniconda3/envs/surfhound/lib/python3.9/site-packages/tensorflow/python/data/experimental/service/__init__.py:140\u001b[0m\n\u001b[1;32m    137\u001b[0m \u001b[39mfrom\u001b[39;00m \u001b[39m__future__\u001b[39;00m \u001b[39mimport\u001b[39;00m division\n\u001b[1;32m    138\u001b[0m \u001b[39mfrom\u001b[39;00m \u001b[39m__future__\u001b[39;00m \u001b[39mimport\u001b[39;00m print_function\n\u001b[0;32m--> 140\u001b[0m \u001b[39mfrom\u001b[39;00m \u001b[39mtensorflow\u001b[39;00m\u001b[39m.\u001b[39;00m\u001b[39mpython\u001b[39;00m\u001b[39m.\u001b[39;00m\u001b[39mdata\u001b[39;00m\u001b[39m.\u001b[39;00m\u001b[39mexperimental\u001b[39;00m\u001b[39m.\u001b[39;00m\u001b[39mops\u001b[39;00m\u001b[39m.\u001b[39;00m\u001b[39mdata_service_ops\u001b[39;00m \u001b[39mimport\u001b[39;00m distribute\n\u001b[1;32m    141\u001b[0m \u001b[39mfrom\u001b[39;00m \u001b[39mtensorflow\u001b[39;00m\u001b[39m.\u001b[39;00m\u001b[39mpython\u001b[39;00m\u001b[39m.\u001b[39;00m\u001b[39mdata\u001b[39;00m\u001b[39m.\u001b[39;00m\u001b[39mexperimental\u001b[39;00m\u001b[39m.\u001b[39;00m\u001b[39mops\u001b[39;00m\u001b[39m.\u001b[39;00m\u001b[39mdata_service_ops\u001b[39;00m \u001b[39mimport\u001b[39;00m from_dataset_id\n\u001b[1;32m    142\u001b[0m \u001b[39mfrom\u001b[39;00m \u001b[39mtensorflow\u001b[39;00m\u001b[39m.\u001b[39;00m\u001b[39mpython\u001b[39;00m\u001b[39m.\u001b[39;00m\u001b[39mdata\u001b[39;00m\u001b[39m.\u001b[39;00m\u001b[39mexperimental\u001b[39;00m\u001b[39m.\u001b[39;00m\u001b[39mops\u001b[39;00m\u001b[39m.\u001b[39;00m\u001b[39mdata_service_ops\u001b[39;00m \u001b[39mimport\u001b[39;00m register_dataset\n",
            "File \u001b[0;32m~/miniconda3/envs/surfhound/lib/python3.9/site-packages/tensorflow/python/data/experimental/ops/data_service_ops.py:25\u001b[0m\n\u001b[1;32m     22\u001b[0m \u001b[39mimport\u001b[39;00m \u001b[39msix\u001b[39;00m\n\u001b[1;32m     24\u001b[0m \u001b[39mfrom\u001b[39;00m \u001b[39mtensorflow\u001b[39;00m\u001b[39m.\u001b[39;00m\u001b[39mpython\u001b[39;00m \u001b[39mimport\u001b[39;00m tf2\n\u001b[0;32m---> 25\u001b[0m \u001b[39mfrom\u001b[39;00m \u001b[39mtensorflow\u001b[39;00m\u001b[39m.\u001b[39;00m\u001b[39mpython\u001b[39;00m\u001b[39m.\u001b[39;00m\u001b[39mdata\u001b[39;00m\u001b[39m.\u001b[39;00m\u001b[39mexperimental\u001b[39;00m\u001b[39m.\u001b[39;00m\u001b[39mops\u001b[39;00m \u001b[39mimport\u001b[39;00m compression_ops\n\u001b[1;32m     26\u001b[0m \u001b[39mfrom\u001b[39;00m \u001b[39mtensorflow\u001b[39;00m\u001b[39m.\u001b[39;00m\u001b[39mpython\u001b[39;00m\u001b[39m.\u001b[39;00m\u001b[39mdata\u001b[39;00m\u001b[39m.\u001b[39;00m\u001b[39mexperimental\u001b[39;00m\u001b[39m.\u001b[39;00m\u001b[39mops\u001b[39;00m\u001b[39m.\u001b[39;00m\u001b[39mdistribute_options\u001b[39;00m \u001b[39mimport\u001b[39;00m AutoShardPolicy\n\u001b[1;32m     27\u001b[0m \u001b[39mfrom\u001b[39;00m \u001b[39mtensorflow\u001b[39;00m\u001b[39m.\u001b[39;00m\u001b[39mpython\u001b[39;00m\u001b[39m.\u001b[39;00m\u001b[39mdata\u001b[39;00m\u001b[39m.\u001b[39;00m\u001b[39mexperimental\u001b[39;00m\u001b[39m.\u001b[39;00m\u001b[39mops\u001b[39;00m\u001b[39m.\u001b[39;00m\u001b[39mdistribute_options\u001b[39;00m \u001b[39mimport\u001b[39;00m ExternalStatePolicy\n",
            "File \u001b[0;32m~/miniconda3/envs/surfhound/lib/python3.9/site-packages/tensorflow/python/data/experimental/ops/compression_ops.py:20\u001b[0m\n\u001b[1;32m     17\u001b[0m \u001b[39mfrom\u001b[39;00m \u001b[39m__future__\u001b[39;00m \u001b[39mimport\u001b[39;00m division\n\u001b[1;32m     18\u001b[0m \u001b[39mfrom\u001b[39;00m \u001b[39m__future__\u001b[39;00m \u001b[39mimport\u001b[39;00m print_function\n\u001b[0;32m---> 20\u001b[0m \u001b[39mfrom\u001b[39;00m \u001b[39mtensorflow\u001b[39;00m\u001b[39m.\u001b[39;00m\u001b[39mpython\u001b[39;00m\u001b[39m.\u001b[39;00m\u001b[39mdata\u001b[39;00m\u001b[39m.\u001b[39;00m\u001b[39mutil\u001b[39;00m \u001b[39mimport\u001b[39;00m structure\n\u001b[1;32m     21\u001b[0m \u001b[39mfrom\u001b[39;00m \u001b[39mtensorflow\u001b[39;00m\u001b[39m.\u001b[39;00m\u001b[39mpython\u001b[39;00m\u001b[39m.\u001b[39;00m\u001b[39mops\u001b[39;00m \u001b[39mimport\u001b[39;00m gen_experimental_dataset_ops \u001b[39mas\u001b[39;00m ged_ops\n\u001b[1;32m     24\u001b[0m \u001b[39mdef\u001b[39;00m \u001b[39mcompress\u001b[39m(element):\n",
            "File \u001b[0;32m~/miniconda3/envs/surfhound/lib/python3.9/site-packages/tensorflow/python/data/util/structure.py:26\u001b[0m\n\u001b[1;32m     23\u001b[0m \u001b[39mimport\u001b[39;00m \u001b[39msix\u001b[39;00m\n\u001b[1;32m     24\u001b[0m \u001b[39mimport\u001b[39;00m \u001b[39mwrapt\u001b[39;00m\n\u001b[0;32m---> 26\u001b[0m \u001b[39mfrom\u001b[39;00m \u001b[39mtensorflow\u001b[39;00m\u001b[39m.\u001b[39;00m\u001b[39mpython\u001b[39;00m\u001b[39m.\u001b[39;00m\u001b[39mdata\u001b[39;00m\u001b[39m.\u001b[39;00m\u001b[39mutil\u001b[39;00m \u001b[39mimport\u001b[39;00m nest\n\u001b[1;32m     27\u001b[0m \u001b[39mfrom\u001b[39;00m \u001b[39mtensorflow\u001b[39;00m\u001b[39m.\u001b[39;00m\u001b[39mpython\u001b[39;00m\u001b[39m.\u001b[39;00m\u001b[39mframework\u001b[39;00m \u001b[39mimport\u001b[39;00m composite_tensor\n\u001b[1;32m     28\u001b[0m \u001b[39mfrom\u001b[39;00m \u001b[39mtensorflow\u001b[39;00m\u001b[39m.\u001b[39;00m\u001b[39mpython\u001b[39;00m\u001b[39m.\u001b[39;00m\u001b[39mframework\u001b[39;00m \u001b[39mimport\u001b[39;00m ops\n",
            "File \u001b[0;32m~/miniconda3/envs/surfhound/lib/python3.9/site-packages/tensorflow/python/data/util/nest.py:41\u001b[0m\n\u001b[1;32m     38\u001b[0m \u001b[39mimport\u001b[39;00m \u001b[39msix\u001b[39;00m \u001b[39mas\u001b[39;00m \u001b[39m_six\u001b[39;00m\n\u001b[1;32m     40\u001b[0m \u001b[39mfrom\u001b[39;00m \u001b[39mtensorflow\u001b[39;00m\u001b[39m.\u001b[39;00m\u001b[39mpython\u001b[39;00m \u001b[39mimport\u001b[39;00m _pywrap_utils\n\u001b[0;32m---> 41\u001b[0m \u001b[39mfrom\u001b[39;00m \u001b[39mtensorflow\u001b[39;00m\u001b[39m.\u001b[39;00m\u001b[39mpython\u001b[39;00m\u001b[39m.\u001b[39;00m\u001b[39mframework\u001b[39;00m \u001b[39mimport\u001b[39;00m sparse_tensor \u001b[39mas\u001b[39;00m _sparse_tensor\n\u001b[1;32m     42\u001b[0m \u001b[39mfrom\u001b[39;00m \u001b[39mtensorflow\u001b[39;00m\u001b[39m.\u001b[39;00m\u001b[39mpython\u001b[39;00m\u001b[39m.\u001b[39;00m\u001b[39mutil\u001b[39;00m\u001b[39m.\u001b[39;00m\u001b[39mcompat\u001b[39;00m \u001b[39mimport\u001b[39;00m collections_abc \u001b[39mas\u001b[39;00m _collections_abc\n\u001b[1;32m     45\u001b[0m \u001b[39mdef\u001b[39;00m \u001b[39m_sorted\u001b[39m(dict_):\n",
            "File \u001b[0;32m~/miniconda3/envs/surfhound/lib/python3.9/site-packages/tensorflow/python/framework/sparse_tensor.py:29\u001b[0m\n\u001b[1;32m     27\u001b[0m \u001b[39mfrom\u001b[39;00m \u001b[39mtensorflow\u001b[39;00m\u001b[39m.\u001b[39;00m\u001b[39mpython\u001b[39;00m \u001b[39mimport\u001b[39;00m tf2\n\u001b[1;32m     28\u001b[0m \u001b[39mfrom\u001b[39;00m \u001b[39mtensorflow\u001b[39;00m\u001b[39m.\u001b[39;00m\u001b[39mpython\u001b[39;00m\u001b[39m.\u001b[39;00m\u001b[39mframework\u001b[39;00m \u001b[39mimport\u001b[39;00m composite_tensor\n\u001b[0;32m---> 29\u001b[0m \u001b[39mfrom\u001b[39;00m \u001b[39mtensorflow\u001b[39;00m\u001b[39m.\u001b[39;00m\u001b[39mpython\u001b[39;00m\u001b[39m.\u001b[39;00m\u001b[39mframework\u001b[39;00m \u001b[39mimport\u001b[39;00m constant_op\n\u001b[1;32m     30\u001b[0m \u001b[39mfrom\u001b[39;00m \u001b[39mtensorflow\u001b[39;00m\u001b[39m.\u001b[39;00m\u001b[39mpython\u001b[39;00m\u001b[39m.\u001b[39;00m\u001b[39mframework\u001b[39;00m \u001b[39mimport\u001b[39;00m dtypes\n\u001b[1;32m     31\u001b[0m \u001b[39mfrom\u001b[39;00m \u001b[39mtensorflow\u001b[39;00m\u001b[39m.\u001b[39;00m\u001b[39mpython\u001b[39;00m\u001b[39m.\u001b[39;00m\u001b[39mframework\u001b[39;00m \u001b[39mimport\u001b[39;00m ops\n",
            "File \u001b[0;32m~/miniconda3/envs/surfhound/lib/python3.9/site-packages/tensorflow/python/framework/constant_op.py:29\u001b[0m\n\u001b[1;32m     27\u001b[0m \u001b[39mfrom\u001b[39;00m \u001b[39mtensorflow\u001b[39;00m\u001b[39m.\u001b[39;00m\u001b[39mcore\u001b[39;00m\u001b[39m.\u001b[39;00m\u001b[39mframework\u001b[39;00m \u001b[39mimport\u001b[39;00m types_pb2\n\u001b[1;32m     28\u001b[0m \u001b[39mfrom\u001b[39;00m \u001b[39mtensorflow\u001b[39;00m\u001b[39m.\u001b[39;00m\u001b[39mpython\u001b[39;00m\u001b[39m.\u001b[39;00m\u001b[39meager\u001b[39;00m \u001b[39mimport\u001b[39;00m context\n\u001b[0;32m---> 29\u001b[0m \u001b[39mfrom\u001b[39;00m \u001b[39mtensorflow\u001b[39;00m\u001b[39m.\u001b[39;00m\u001b[39mpython\u001b[39;00m\u001b[39m.\u001b[39;00m\u001b[39meager\u001b[39;00m \u001b[39mimport\u001b[39;00m execute\n\u001b[1;32m     30\u001b[0m \u001b[39mfrom\u001b[39;00m \u001b[39mtensorflow\u001b[39;00m\u001b[39m.\u001b[39;00m\u001b[39mpython\u001b[39;00m\u001b[39m.\u001b[39;00m\u001b[39mframework\u001b[39;00m \u001b[39mimport\u001b[39;00m dtypes\n\u001b[1;32m     31\u001b[0m \u001b[39mfrom\u001b[39;00m \u001b[39mtensorflow\u001b[39;00m\u001b[39m.\u001b[39;00m\u001b[39mpython\u001b[39;00m\u001b[39m.\u001b[39;00m\u001b[39mframework\u001b[39;00m \u001b[39mimport\u001b[39;00m op_callbacks\n",
            "File \u001b[0;32m~/miniconda3/envs/surfhound/lib/python3.9/site-packages/tensorflow/python/eager/execute.py:27\u001b[0m\n\u001b[1;32m     25\u001b[0m \u001b[39mfrom\u001b[39;00m \u001b[39mtensorflow\u001b[39;00m\u001b[39m.\u001b[39;00m\u001b[39mpython\u001b[39;00m \u001b[39mimport\u001b[39;00m pywrap_tfe\n\u001b[1;32m     26\u001b[0m \u001b[39mfrom\u001b[39;00m \u001b[39mtensorflow\u001b[39;00m\u001b[39m.\u001b[39;00m\u001b[39mpython\u001b[39;00m\u001b[39m.\u001b[39;00m\u001b[39meager\u001b[39;00m \u001b[39mimport\u001b[39;00m core\n\u001b[0;32m---> 27\u001b[0m \u001b[39mfrom\u001b[39;00m \u001b[39mtensorflow\u001b[39;00m\u001b[39m.\u001b[39;00m\u001b[39mpython\u001b[39;00m\u001b[39m.\u001b[39;00m\u001b[39mframework\u001b[39;00m \u001b[39mimport\u001b[39;00m dtypes\n\u001b[1;32m     28\u001b[0m \u001b[39mfrom\u001b[39;00m \u001b[39mtensorflow\u001b[39;00m\u001b[39m.\u001b[39;00m\u001b[39mpython\u001b[39;00m\u001b[39m.\u001b[39;00m\u001b[39mframework\u001b[39;00m \u001b[39mimport\u001b[39;00m ops\n\u001b[1;32m     29\u001b[0m \u001b[39mfrom\u001b[39;00m \u001b[39mtensorflow\u001b[39;00m\u001b[39m.\u001b[39;00m\u001b[39mpython\u001b[39;00m\u001b[39m.\u001b[39;00m\u001b[39mframework\u001b[39;00m \u001b[39mimport\u001b[39;00m tensor_shape\n",
            "File \u001b[0;32m~/miniconda3/envs/surfhound/lib/python3.9/site-packages/tensorflow/python/framework/dtypes.py:513\u001b[0m\n\u001b[1;32m    482\u001b[0m     _NP_TO_TF[pdt] \u001b[39m=\u001b[39m \u001b[39mnext\u001b[39m(\n\u001b[1;32m    483\u001b[0m         _NP_TO_TF[dt] \u001b[39mfor\u001b[39;00m dt \u001b[39min\u001b[39;00m _NP_TO_TF \u001b[39mif\u001b[39;00m dt \u001b[39m==\u001b[39m pdt()\u001b[39m.\u001b[39mdtype)\n\u001b[1;32m    486\u001b[0m TF_VALUE_DTYPES \u001b[39m=\u001b[39m \u001b[39mset\u001b[39m(_NP_TO_TF\u001b[39m.\u001b[39mvalues())\n\u001b[1;32m    489\u001b[0m _TF_TO_NP \u001b[39m=\u001b[39m {\n\u001b[1;32m    490\u001b[0m     types_pb2\u001b[39m.\u001b[39mDT_HALF:\n\u001b[1;32m    491\u001b[0m         np\u001b[39m.\u001b[39mfloat16,\n\u001b[1;32m    492\u001b[0m     types_pb2\u001b[39m.\u001b[39mDT_FLOAT:\n\u001b[1;32m    493\u001b[0m         np\u001b[39m.\u001b[39mfloat32,\n\u001b[1;32m    494\u001b[0m     types_pb2\u001b[39m.\u001b[39mDT_DOUBLE:\n\u001b[1;32m    495\u001b[0m         np\u001b[39m.\u001b[39mfloat64,\n\u001b[1;32m    496\u001b[0m     types_pb2\u001b[39m.\u001b[39mDT_INT32:\n\u001b[1;32m    497\u001b[0m         np\u001b[39m.\u001b[39mint32,\n\u001b[1;32m    498\u001b[0m     types_pb2\u001b[39m.\u001b[39mDT_UINT8:\n\u001b[1;32m    499\u001b[0m         np\u001b[39m.\u001b[39muint8,\n\u001b[1;32m    500\u001b[0m     types_pb2\u001b[39m.\u001b[39mDT_UINT16:\n\u001b[1;32m    501\u001b[0m         np\u001b[39m.\u001b[39muint16,\n\u001b[1;32m    502\u001b[0m     types_pb2\u001b[39m.\u001b[39mDT_UINT32:\n\u001b[1;32m    503\u001b[0m         np\u001b[39m.\u001b[39muint32,\n\u001b[1;32m    504\u001b[0m     types_pb2\u001b[39m.\u001b[39mDT_UINT64:\n\u001b[1;32m    505\u001b[0m         np\u001b[39m.\u001b[39muint64,\n\u001b[1;32m    506\u001b[0m     types_pb2\u001b[39m.\u001b[39mDT_INT16:\n\u001b[1;32m    507\u001b[0m         np\u001b[39m.\u001b[39mint16,\n\u001b[1;32m    508\u001b[0m     types_pb2\u001b[39m.\u001b[39mDT_INT8:\n\u001b[1;32m    509\u001b[0m         np\u001b[39m.\u001b[39mint8,\n\u001b[1;32m    510\u001b[0m     \u001b[39m# NOTE(touts): For strings we use np.object as it supports variable length\u001b[39;00m\n\u001b[1;32m    511\u001b[0m     \u001b[39m# strings.\u001b[39;00m\n\u001b[1;32m    512\u001b[0m     types_pb2\u001b[39m.\u001b[39mDT_STRING:\n\u001b[0;32m--> 513\u001b[0m         np\u001b[39m.\u001b[39;49mobject,\n\u001b[1;32m    514\u001b[0m     types_pb2\u001b[39m.\u001b[39mDT_COMPLEX64:\n\u001b[1;32m    515\u001b[0m         np\u001b[39m.\u001b[39mcomplex64,\n\u001b[1;32m    516\u001b[0m     types_pb2\u001b[39m.\u001b[39mDT_COMPLEX128:\n\u001b[1;32m    517\u001b[0m         np\u001b[39m.\u001b[39mcomplex128,\n\u001b[1;32m    518\u001b[0m     types_pb2\u001b[39m.\u001b[39mDT_INT64:\n\u001b[1;32m    519\u001b[0m         np\u001b[39m.\u001b[39mint64,\n\u001b[1;32m    520\u001b[0m     types_pb2\u001b[39m.\u001b[39mDT_BOOL:\n\u001b[1;32m    521\u001b[0m         np\u001b[39m.\u001b[39mbool,\n\u001b[1;32m    522\u001b[0m     types_pb2\u001b[39m.\u001b[39mDT_QINT8:\n\u001b[1;32m    523\u001b[0m         _np_qint8,\n\u001b[1;32m    524\u001b[0m     types_pb2\u001b[39m.\u001b[39mDT_QUINT8:\n\u001b[1;32m    525\u001b[0m         _np_quint8,\n\u001b[1;32m    526\u001b[0m     types_pb2\u001b[39m.\u001b[39mDT_QINT16:\n\u001b[1;32m    527\u001b[0m         _np_qint16,\n\u001b[1;32m    528\u001b[0m     types_pb2\u001b[39m.\u001b[39mDT_QUINT16:\n\u001b[1;32m    529\u001b[0m         _np_quint16,\n\u001b[1;32m    530\u001b[0m     types_pb2\u001b[39m.\u001b[39mDT_QINT32:\n\u001b[1;32m    531\u001b[0m         _np_qint32,\n\u001b[1;32m    532\u001b[0m     types_pb2\u001b[39m.\u001b[39mDT_BFLOAT16:\n\u001b[1;32m    533\u001b[0m         _np_bfloat16,\n\u001b[1;32m    534\u001b[0m \n\u001b[1;32m    535\u001b[0m     \u001b[39m# Ref types\u001b[39;00m\n\u001b[1;32m    536\u001b[0m     types_pb2\u001b[39m.\u001b[39mDT_HALF_REF:\n\u001b[1;32m    537\u001b[0m         np\u001b[39m.\u001b[39mfloat16,\n\u001b[1;32m    538\u001b[0m     types_pb2\u001b[39m.\u001b[39mDT_FLOAT_REF:\n\u001b[1;32m    539\u001b[0m         np\u001b[39m.\u001b[39mfloat32,\n\u001b[1;32m    540\u001b[0m     types_pb2\u001b[39m.\u001b[39mDT_DOUBLE_REF:\n\u001b[1;32m    541\u001b[0m         np\u001b[39m.\u001b[39mfloat64,\n\u001b[1;32m    542\u001b[0m     types_pb2\u001b[39m.\u001b[39mDT_INT32_REF:\n\u001b[1;32m    543\u001b[0m         np\u001b[39m.\u001b[39mint32,\n\u001b[1;32m    544\u001b[0m     types_pb2\u001b[39m.\u001b[39mDT_UINT32_REF:\n\u001b[1;32m    545\u001b[0m         np\u001b[39m.\u001b[39muint32,\n\u001b[1;32m    546\u001b[0m     types_pb2\u001b[39m.\u001b[39mDT_UINT8_REF:\n\u001b[1;32m    547\u001b[0m         np\u001b[39m.\u001b[39muint8,\n\u001b[1;32m    548\u001b[0m     types_pb2\u001b[39m.\u001b[39mDT_UINT16_REF:\n\u001b[1;32m    549\u001b[0m         np\u001b[39m.\u001b[39muint16,\n\u001b[1;32m    550\u001b[0m     types_pb2\u001b[39m.\u001b[39mDT_INT16_REF:\n\u001b[1;32m    551\u001b[0m         np\u001b[39m.\u001b[39mint16,\n\u001b[1;32m    552\u001b[0m     types_pb2\u001b[39m.\u001b[39mDT_INT8_REF:\n\u001b[1;32m    553\u001b[0m         np\u001b[39m.\u001b[39mint8,\n\u001b[1;32m    554\u001b[0m     types_pb2\u001b[39m.\u001b[39mDT_STRING_REF:\n\u001b[1;32m    555\u001b[0m         np\u001b[39m.\u001b[39mobject,\n\u001b[1;32m    556\u001b[0m     types_pb2\u001b[39m.\u001b[39mDT_COMPLEX64_REF:\n\u001b[1;32m    557\u001b[0m         np\u001b[39m.\u001b[39mcomplex64,\n\u001b[1;32m    558\u001b[0m     types_pb2\u001b[39m.\u001b[39mDT_COMPLEX128_REF:\n\u001b[1;32m    559\u001b[0m         np\u001b[39m.\u001b[39mcomplex128,\n\u001b[1;32m    560\u001b[0m     types_pb2\u001b[39m.\u001b[39mDT_INT64_REF:\n\u001b[1;32m    561\u001b[0m         np\u001b[39m.\u001b[39mint64,\n\u001b[1;32m    562\u001b[0m     types_pb2\u001b[39m.\u001b[39mDT_UINT64_REF:\n\u001b[1;32m    563\u001b[0m         np\u001b[39m.\u001b[39muint64,\n\u001b[1;32m    564\u001b[0m     types_pb2\u001b[39m.\u001b[39mDT_BOOL_REF:\n\u001b[1;32m    565\u001b[0m         np\u001b[39m.\u001b[39mbool,\n\u001b[1;32m    566\u001b[0m     types_pb2\u001b[39m.\u001b[39mDT_QINT8_REF:\n\u001b[1;32m    567\u001b[0m         _np_qint8,\n\u001b[1;32m    568\u001b[0m     types_pb2\u001b[39m.\u001b[39mDT_QUINT8_REF:\n\u001b[1;32m    569\u001b[0m         _np_quint8,\n\u001b[1;32m    570\u001b[0m     types_pb2\u001b[39m.\u001b[39mDT_QINT16_REF:\n\u001b[1;32m    571\u001b[0m         _np_qint16,\n\u001b[1;32m    572\u001b[0m     types_pb2\u001b[39m.\u001b[39mDT_QUINT16_REF:\n\u001b[1;32m    573\u001b[0m         _np_quint16,\n\u001b[1;32m    574\u001b[0m     types_pb2\u001b[39m.\u001b[39mDT_QINT32_REF:\n\u001b[1;32m    575\u001b[0m         _np_qint32,\n\u001b[1;32m    576\u001b[0m     types_pb2\u001b[39m.\u001b[39mDT_BFLOAT16_REF:\n\u001b[1;32m    577\u001b[0m         _np_bfloat16,\n\u001b[1;32m    578\u001b[0m }\n\u001b[1;32m    580\u001b[0m _QUANTIZED_DTYPES_NO_REF \u001b[39m=\u001b[39m \u001b[39mfrozenset\u001b[39m([qint8, quint8, qint16, quint16, qint32])\n\u001b[1;32m    581\u001b[0m _QUANTIZED_DTYPES_REF \u001b[39m=\u001b[39m \u001b[39mfrozenset\u001b[39m(\n\u001b[1;32m    582\u001b[0m     [qint8_ref, quint8_ref, qint16_ref, quint16_ref, qint32_ref])\n",
            "File \u001b[0;32m~/miniconda3/envs/surfhound/lib/python3.9/site-packages/numpy/__init__.py:324\u001b[0m, in \u001b[0;36m__getattr__\u001b[0;34m(attr)\u001b[0m\n\u001b[1;32m    319\u001b[0m     warnings\u001b[39m.\u001b[39mwarn(\n\u001b[1;32m    320\u001b[0m         \u001b[39mf\u001b[39m\u001b[39m\"\u001b[39m\u001b[39mIn the future `np.\u001b[39m\u001b[39m{\u001b[39;00mattr\u001b[39m}\u001b[39;00m\u001b[39m` will be defined as the \u001b[39m\u001b[39m\"\u001b[39m\n\u001b[1;32m    321\u001b[0m         \u001b[39m\"\u001b[39m\u001b[39mcorresponding NumPy scalar.\u001b[39m\u001b[39m\"\u001b[39m, \u001b[39mFutureWarning\u001b[39;00m, stacklevel\u001b[39m=\u001b[39m\u001b[39m2\u001b[39m)\n\u001b[1;32m    323\u001b[0m \u001b[39mif\u001b[39;00m attr \u001b[39min\u001b[39;00m __former_attrs__:\n\u001b[0;32m--> 324\u001b[0m     \u001b[39mraise\u001b[39;00m \u001b[39mAttributeError\u001b[39;00m(__former_attrs__[attr])\n\u001b[1;32m    326\u001b[0m \u001b[39mif\u001b[39;00m attr \u001b[39m==\u001b[39m \u001b[39m'\u001b[39m\u001b[39mtesting\u001b[39m\u001b[39m'\u001b[39m:\n\u001b[1;32m    327\u001b[0m     \u001b[39mimport\u001b[39;00m \u001b[39mnumpy\u001b[39;00m\u001b[39m.\u001b[39;00m\u001b[39mtesting\u001b[39;00m \u001b[39mas\u001b[39;00m \u001b[39mtesting\u001b[39;00m\n",
            "\u001b[0;31mAttributeError\u001b[0m: module 'numpy' has no attribute 'object'.\n`np.object` was a deprecated alias for the builtin `object`. To avoid this error in existing code, use `object` by itself. Doing this will not modify any behavior and is safe. \nThe aliases was originally deprecated in NumPy 1.20; for more details and guidance see the original release note at:\n    https://numpy.org/devdocs/release/1.20.0-notes.html#deprecations"
          ]
        }
      ],
      "source": [
        "import pandas as pd\n",
        "import matplotlib.pyplot as plt\n",
        "from sklearn.preprocessing import LabelEncoder\n",
        "from sklearn.model_selection import train_test_split\n",
        "from sklearn.metrics import classification_report, confusion_matrix\n",
        "from sklearn.utils import shuffle\n",
        "from sklearn.utils.class_weight import compute_class_weight\n",
        "from tensorflow.keras.models import Sequential, load_model\n",
        "from tensorflow.keras.layers import Dense, Dropout\n",
        "from tensorflow.keras.callbacks import EarlyStopping\n",
        "from sklearn.utils.class_weight import compute_class_weight\n",
        "import pickle\n",
        "from utils import Preprocessor\n",
        "import numpy as np"
      ]
    },
    {
      "cell_type": "code",
      "execution_count": 5,
      "metadata": {
        "gather": {
          "logged": 1699906421832
        },
        "id": "CaJkJRREFHSb"
      },
      "outputs": [
        {
          "data": {
            "application/vnd.livy.statement-meta+json": {
              "execution_finish_time": "2023-11-13T20:13:37.0901192Z",
              "execution_start_time": "2023-11-13T20:13:35.5720679Z",
              "livy_statement_state": "available",
              "parent_msg_id": "4dd394a3-4a34-4807-b8e8-1c3f963b6a85",
              "queued_time": "2023-11-13T20:12:21.0612683Z",
              "session_id": "11",
              "session_start_time": null,
              "spark_jobs": {
                "jobs": [],
                "limit": 20,
                "numbers": {
                  "FAILED": 0,
                  "RUNNING": 0,
                  "SUCCEEDED": 0,
                  "UNKNOWN": 0
                },
                "rule": "ALL_DESC"
              },
              "spark_pool": "d5d52fdd-a565-4043-bb61-4b7680650277",
              "state": "finished",
              "statement_id": 10
            },
            "text/plain": [
              "StatementMeta(d5d52fdd-a565-4043-bb61-4b7680650277, 11, 10, Finished, Available)"
            ]
          },
          "metadata": {},
          "output_type": "display_data"
        }
      ],
      "source": [
        "# Load dataset\n",
        "df = pd.read_csv('Users/Owen.Rotich/phishing_site_urls.csv')"
      ]
    },
    {
      "cell_type": "markdown",
      "metadata": {
        "id": "C9vMPTwyprZS"
      },
      "source": [
        "EXPLORATORY DATASET ANALYSIS"
      ]
    },
    {
      "cell_type": "code",
      "execution_count": 6,
      "metadata": {
        "colab": {
          "base_uri": "https://localhost:8080/",
          "height": 339
        },
        "gather": {
          "logged": 1699906422830
        },
        "id": "ZcetkRh5potE",
        "outputId": "93c59b09-84b2-4839-93b7-f821813b078c"
      },
      "outputs": [
        {
          "data": {
            "application/vnd.livy.statement-meta+json": {
              "execution_finish_time": "2023-11-13T20:13:38.0043623Z",
              "execution_start_time": "2023-11-13T20:13:37.1900255Z",
              "livy_statement_state": "available",
              "parent_msg_id": "0c77f718-a347-486a-ae0d-8b275fcd6148",
              "queued_time": "2023-11-13T20:12:21.0625668Z",
              "session_id": "11",
              "session_start_time": null,
              "spark_jobs": {
                "jobs": [],
                "limit": 20,
                "numbers": {
                  "FAILED": 0,
                  "RUNNING": 0,
                  "SUCCEEDED": 0,
                  "UNKNOWN": 0
                },
                "rule": "ALL_DESC"
              },
              "spark_pool": "d5d52fdd-a565-4043-bb61-4b7680650277",
              "state": "finished",
              "statement_id": 11
            },
            "text/plain": [
              "StatementMeta(d5d52fdd-a565-4043-bb61-4b7680650277, 11, 11, Finished, Available)"
            ]
          },
          "metadata": {},
          "output_type": "display_data"
        },
        {
          "name": "stdout",
          "output_type": "stream",
          "text": [
            "<class 'pandas.core.frame.DataFrame'>\n",
            "RangeIndex: 549346 entries, 0 to 549345\n",
            "Data columns (total 2 columns):\n",
            " #   Column  Non-Null Count   Dtype \n",
            "---  ------  --------------   ----- \n",
            " 0   url     549346 non-null  object\n",
            " 1   label   549346 non-null  object\n",
            "dtypes: object(2)\n",
            "memory usage: 8.4+ MB\n"
          ]
        },
        {
          "data": {
            "text/html": [
              "<div>\n",
              "<style scoped>\n",
              "    .dataframe tbody tr th:only-of-type {\n",
              "        vertical-align: middle;\n",
              "    }\n",
              "\n",
              "    .dataframe tbody tr th {\n",
              "        vertical-align: top;\n",
              "    }\n",
              "\n",
              "    .dataframe thead th {\n",
              "        text-align: right;\n",
              "    }\n",
              "</style>\n",
              "<table border=\"1\" class=\"dataframe\">\n",
              "  <thead>\n",
              "    <tr style=\"text-align: right;\">\n",
              "      <th></th>\n",
              "      <th>url</th>\n",
              "      <th>label</th>\n",
              "    </tr>\n",
              "  </thead>\n",
              "  <tbody>\n",
              "    <tr>\n",
              "      <th>count</th>\n",
              "      <td>549346</td>\n",
              "      <td>549346</td>\n",
              "    </tr>\n",
              "    <tr>\n",
              "      <th>unique</th>\n",
              "      <td>507195</td>\n",
              "      <td>2</td>\n",
              "    </tr>\n",
              "    <tr>\n",
              "      <th>top</th>\n",
              "      <td>jhomitevd2abj3fk.onion.to/</td>\n",
              "      <td>good</td>\n",
              "    </tr>\n",
              "    <tr>\n",
              "      <th>freq</th>\n",
              "      <td>52</td>\n",
              "      <td>392924</td>\n",
              "    </tr>\n",
              "  </tbody>\n",
              "</table>\n",
              "</div>"
            ],
            "text/plain": [
              "                               url   label\n",
              "count                       549346  549346\n",
              "unique                      507195       2\n",
              "top     jhomitevd2abj3fk.onion.to/    good\n",
              "freq                            52  392924"
            ]
          },
          "execution_count": 21,
          "metadata": {},
          "output_type": "execute_result"
        }
      ],
      "source": [
        "# basic info\n",
        "df.info()\n",
        "df.describe()"
      ]
    },
    {
      "cell_type": "code",
      "execution_count": 7,
      "metadata": {
        "colab": {
          "base_uri": "https://localhost:8080/"
        },
        "gather": {
          "logged": 1699906423614
        },
        "id": "JQNvtymypxTd",
        "outputId": "847af5e7-f3fc-4c47-a558-5f7e69443d56"
      },
      "outputs": [
        {
          "data": {
            "application/vnd.livy.statement-meta+json": {
              "execution_finish_time": "2023-11-13T20:13:38.8864314Z",
              "execution_start_time": "2023-11-13T20:13:38.102815Z",
              "livy_statement_state": "available",
              "parent_msg_id": "35a067c6-a84c-4c18-8a9c-d6253be1b38c",
              "queued_time": "2023-11-13T20:12:21.0638014Z",
              "session_id": "11",
              "session_start_time": null,
              "spark_jobs": {
                "jobs": [],
                "limit": 20,
                "numbers": {
                  "FAILED": 0,
                  "RUNNING": 0,
                  "SUCCEEDED": 0,
                  "UNKNOWN": 0
                },
                "rule": "ALL_DESC"
              },
              "spark_pool": "d5d52fdd-a565-4043-bb61-4b7680650277",
              "state": "finished",
              "statement_id": 12
            },
            "text/plain": [
              "StatementMeta(d5d52fdd-a565-4043-bb61-4b7680650277, 11, 12, Finished, Available)"
            ]
          },
          "metadata": {},
          "output_type": "display_data"
        },
        {
          "data": {
            "text/plain": [
              "42150"
            ]
          },
          "execution_count": 23,
          "metadata": {},
          "output_type": "execute_result"
        }
      ],
      "source": [
        "# find duplicates\n",
        "df.duplicated().sum()"
      ]
    },
    {
      "cell_type": "code",
      "execution_count": 8,
      "metadata": {
        "colab": {
          "base_uri": "https://localhost:8080/"
        },
        "gather": {
          "logged": 1699906423980
        },
        "id": "QwxwQXH2GxMQ",
        "outputId": "6de1ebe9-08c0-4030-c9b8-96292c3fe298"
      },
      "outputs": [
        {
          "data": {
            "application/vnd.livy.statement-meta+json": {
              "execution_finish_time": "2023-11-13T20:13:39.261069Z",
              "execution_start_time": "2023-11-13T20:13:38.9808734Z",
              "livy_statement_state": "available",
              "parent_msg_id": "4463c218-8a98-4ba8-95be-354b0ba6f33d",
              "queued_time": "2023-11-13T20:12:21.0652539Z",
              "session_id": "11",
              "session_start_time": null,
              "spark_jobs": {
                "jobs": [],
                "limit": 20,
                "numbers": {
                  "FAILED": 0,
                  "RUNNING": 0,
                  "SUCCEEDED": 0,
                  "UNKNOWN": 0
                },
                "rule": "ALL_DESC"
              },
              "spark_pool": "d5d52fdd-a565-4043-bb61-4b7680650277",
              "state": "finished",
              "statement_id": 13
            },
            "text/plain": [
              "StatementMeta(d5d52fdd-a565-4043-bb61-4b7680650277, 11, 13, Finished, Available)"
            ]
          },
          "metadata": {},
          "output_type": "display_data"
        },
        {
          "data": {
            "text/plain": [
              "url      object\n",
              "label    object\n",
              "dtype: object"
            ]
          },
          "execution_count": 25,
          "metadata": {},
          "output_type": "execute_result"
        }
      ],
      "source": [
        "# check the data types\n",
        "df.dtypes"
      ]
    },
    {
      "cell_type": "code",
      "execution_count": 9,
      "metadata": {
        "colab": {
          "base_uri": "https://localhost:8080/"
        },
        "gather": {
          "logged": 1699906424401
        },
        "id": "t9KLI7Nip90T",
        "outputId": "adcc5a64-380b-450d-d5b1-69fd04278eae"
      },
      "outputs": [
        {
          "data": {
            "application/vnd.livy.statement-meta+json": {
              "execution_finish_time": "2023-11-13T20:13:39.6483189Z",
              "execution_start_time": "2023-11-13T20:13:39.3607164Z",
              "livy_statement_state": "available",
              "parent_msg_id": "f534176a-cb61-45a2-b212-671aebf73ea1",
              "queued_time": "2023-11-13T20:12:21.0681896Z",
              "session_id": "11",
              "session_start_time": null,
              "spark_jobs": {
                "jobs": [],
                "limit": 20,
                "numbers": {
                  "FAILED": 0,
                  "RUNNING": 0,
                  "SUCCEEDED": 0,
                  "UNKNOWN": 0
                },
                "rule": "ALL_DESC"
              },
              "spark_pool": "d5d52fdd-a565-4043-bb61-4b7680650277",
              "state": "finished",
              "statement_id": 14
            },
            "text/plain": [
              "StatementMeta(d5d52fdd-a565-4043-bb61-4b7680650277, 11, 14, Finished, Available)"
            ]
          },
          "metadata": {},
          "output_type": "display_data"
        },
        {
          "name": "stdout",
          "output_type": "stream",
          "text": [
            "Number of bad URLs: 156422\n",
            "Number of good URLs: 392924\n"
          ]
        }
      ],
      "source": [
        "# print the number of bad vs good URLs\n",
        "label_counts = df['label'].value_counts()\n",
        "print(f'Number of bad URLs: {label_counts[\"bad\"]}')\n",
        "print(f'Number of good URLs: {label_counts[\"good\"]}')"
      ]
    },
    {
      "cell_type": "code",
      "execution_count": 10,
      "metadata": {
        "colab": {
          "base_uri": "https://localhost:8080/",
          "height": 472
        },
        "gather": {
          "logged": 1699906426214
        },
        "id": "F9GwBQyepzXF",
        "outputId": "7a3599d2-1354-4d18-a6ad-719fc0839187"
      },
      "outputs": [
        {
          "data": {
            "application/vnd.livy.statement-meta+json": {
              "execution_finish_time": "2023-11-13T20:13:41.2272095Z",
              "execution_start_time": "2023-11-13T20:13:39.751281Z",
              "livy_statement_state": "available",
              "parent_msg_id": "bd578c65-2b11-49d9-9db0-b4fd3d6fcc24",
              "queued_time": "2023-11-13T20:12:21.0701824Z",
              "session_id": "11",
              "session_start_time": null,
              "spark_jobs": {
                "jobs": [],
                "limit": 20,
                "numbers": {
                  "FAILED": 0,
                  "RUNNING": 0,
                  "SUCCEEDED": 0,
                  "UNKNOWN": 0
                },
                "rule": "ALL_DESC"
              },
              "spark_pool": "d5d52fdd-a565-4043-bb61-4b7680650277",
              "state": "finished",
              "statement_id": 15
            },
            "text/plain": [
              "StatementMeta(d5d52fdd-a565-4043-bb61-4b7680650277, 11, 15, Finished, Available)"
            ]
          },
          "metadata": {},
          "output_type": "display_data"
        },
        {
          "data": {
            "image/png": "[encoded data removed]",
            "text/plain": [
              "<Figure size 432x288 with 1 Axes>"
            ]
          },
          "metadata": {
            "needs_background": "light"
          },
          "output_type": "display_data"
        }
      ],
      "source": [
        "# plot number of URLs in each label\n",
        "label_counts = df['label'].value_counts()\n",
        "plt.bar(label_counts.index, label_counts.values)\n",
        "plt.xlabel('Label')\n",
        "plt.ylabel('No. of URLs')\n",
        "plt.title('URL distribution')\n",
        "plt.show()"
      ]
    },
    {
      "cell_type": "code",
      "execution_count": 11,
      "metadata": {
        "gather": {
          "logged": 1699906426887
        },
        "id": "IkWQ3fYsFMBG"
      },
      "outputs": [
        {
          "data": {
            "application/vnd.livy.statement-meta+json": {
              "execution_finish_time": "2023-11-13T20:13:42.2290747Z",
              "execution_start_time": "2023-11-13T20:13:41.3489007Z",
              "livy_statement_state": "available",
              "parent_msg_id": "18005d62-357e-4cb2-a707-27bc1d8edf4d",
              "queued_time": "2023-11-13T20:12:21.0719822Z",
              "session_id": "11",
              "session_start_time": null,
              "spark_jobs": {
                "jobs": [],
                "limit": 20,
                "numbers": {
                  "FAILED": 0,
                  "RUNNING": 0,
                  "SUCCEEDED": 0,
                  "UNKNOWN": 0
                },
                "rule": "ALL_DESC"
              },
              "spark_pool": "d5d52fdd-a565-4043-bb61-4b7680650277",
              "state": "finished",
              "statement_id": 16
            },
            "text/plain": [
              "StatementMeta(d5d52fdd-a565-4043-bb61-4b7680650277, 11, 16, Finished, Available)"
            ]
          },
          "metadata": {},
          "output_type": "display_data"
        }
      ],
      "source": [
        "# Data Cleaning\n",
        "df = df.dropna()  # remove missing values\n",
        "df = df.drop_duplicates()  # remove duplicates\n",
        "df['url'] = df['url'].str.lower()  # convert to lowercase"
      ]
    },
    {
      "cell_type": "code",
      "execution_count": 12,
      "metadata": {
        "gather": {
          "logged": 1699906427453
        },
        "id": "T5p07LIy-mEA"
      },
      "outputs": [
        {
          "data": {
            "application/vnd.livy.statement-meta+json": {
              "execution_finish_time": "2023-11-13T20:13:42.7165194Z",
              "execution_start_time": "2023-11-13T20:13:42.3266412Z",
              "livy_statement_state": "available",
              "parent_msg_id": "2a2041b3-4893-456b-9a68-a91281a2f640",
              "queued_time": "2023-11-13T20:12:21.0733633Z",
              "session_id": "11",
              "session_start_time": null,
              "spark_jobs": {
                "jobs": [],
                "limit": 20,
                "numbers": {
                  "FAILED": 0,
                  "RUNNING": 0,
                  "SUCCEEDED": 0,
                  "UNKNOWN": 0
                },
                "rule": "ALL_DESC"
              },
              "spark_pool": "d5d52fdd-a565-4043-bb61-4b7680650277",
              "state": "finished",
              "statement_id": 17
            },
            "text/plain": [
              "StatementMeta(d5d52fdd-a565-4043-bb61-4b7680650277, 11, 17, Finished, Available)"
            ]
          },
          "metadata": {},
          "output_type": "display_data"
        }
      ],
      "source": [
        "# Convert labels to binary format ('good' -> 1, 'bad' -> 0)\n",
        "le = LabelEncoder()\n",
        "df['label'] = le.fit_transform(df['label'])"
      ]
    },
    {
      "cell_type": "code",
      "execution_count": 13,
      "metadata": {
        "colab": {
          "base_uri": "https://localhost:8080/"
        },
        "gather": {
          "logged": 1699906493911
        },
        "id": "fgPOeeEnFQFT",
        "outputId": "2d3fd66b-8864-4973-ed78-0d43fd5ba949"
      },
      "outputs": [
        {
          "data": {
            "application/vnd.livy.statement-meta+json": {
              "execution_finish_time": "2023-11-13T20:14:49.001346Z",
              "execution_start_time": "2023-11-13T20:13:42.8122532Z",
              "livy_statement_state": "available",
              "parent_msg_id": "a1c90419-441c-4a4c-a307-d4b68ea07755",
              "queued_time": "2023-11-13T20:12:21.0749902Z",
              "session_id": "11",
              "session_start_time": null,
              "spark_jobs": {
                "jobs": [],
                "limit": 20,
                "numbers": {
                  "FAILED": 0,
                  "RUNNING": 0,
                  "SUCCEEDED": 0,
                  "UNKNOWN": 0
                },
                "rule": "ALL_DESC"
              },
              "spark_pool": "d5d52fdd-a565-4043-bb61-4b7680650277",
              "state": "finished",
              "statement_id": 18
            },
            "text/plain": [
              "StatementMeta(d5d52fdd-a565-4043-bb61-4b7680650277, 11, 18, Finished, Available)"
            ]
          },
          "metadata": {},
          "output_type": "display_data"
        },
        {
          "name": "stdout",
          "output_type": "stream",
          "text": [
            "length of sequences: 177\n"
          ]
        }
      ],
      "source": [
        "# Initialize the preprocessor and transform the data\n",
        "preprocessor = Preprocessor()\n",
        "X = preprocessor.fit_transform(df)\n",
        "y = df['label']"
      ]
    },
    {
      "cell_type": "code",
      "execution_count": 14,
      "metadata": {
        "gather": {
          "logged": 1699906495233
        },
        "id": "Ythi3ujfFTqO"
      },
      "outputs": [
        {
          "data": {
            "application/vnd.livy.statement-meta+json": {
              "execution_finish_time": "2023-11-13T20:14:50.5534002Z",
              "execution_start_time": "2023-11-13T20:14:49.104447Z",
              "livy_statement_state": "available",
              "parent_msg_id": "320e1ad8-d1ea-4d1f-b7b3-ab256683dac1",
              "queued_time": "2023-11-13T20:12:21.0763935Z",
              "session_id": "11",
              "session_start_time": null,
              "spark_jobs": {
                "jobs": [],
                "limit": 20,
                "numbers": {
                  "FAILED": 0,
                  "RUNNING": 0,
                  "SUCCEEDED": 0,
                  "UNKNOWN": 0
                },
                "rule": "ALL_DESC"
              },
              "spark_pool": "d5d52fdd-a565-4043-bb61-4b7680650277",
              "state": "finished",
              "statement_id": 19
            },
            "text/plain": [
              "StatementMeta(d5d52fdd-a565-4043-bb61-4b7680650277, 11, 19, Finished, Available)"
            ]
          },
          "metadata": {},
          "output_type": "display_data"
        }
      ],
      "source": [
        "# Split the data into training and test sets\n",
        "X_tr, X_ts, y_tr, y_ts = train_test_split(X, y, test_size=0.2, random_state=42, shuffle=True)"
      ]
    },
    {
      "cell_type": "code",
      "execution_count": 15,
      "metadata": {
        "gather": {
          "logged": 1699906496793
        },
        "id": "OvJxOVuIggT3"
      },
      "outputs": [
        {
          "data": {
            "application/vnd.livy.statement-meta+json": {
              "execution_finish_time": "2023-11-13T20:14:52.1308304Z",
              "execution_start_time": "2023-11-13T20:14:50.6522181Z",
              "livy_statement_state": "available",
              "parent_msg_id": "17b328a3-e559-4ff2-93e5-6599c770d1e4",
              "queued_time": "2023-11-13T20:12:21.0778129Z",
              "session_id": "11",
              "session_start_time": null,
              "spark_jobs": {
                "jobs": [],
                "limit": 20,
                "numbers": {
                  "FAILED": 0,
                  "RUNNING": 0,
                  "SUCCEEDED": 0,
                  "UNKNOWN": 0
                },
                "rule": "ALL_DESC"
              },
              "spark_pool": "d5d52fdd-a565-4043-bb61-4b7680650277",
              "state": "finished",
              "statement_id": 20
            },
            "text/plain": [
              "StatementMeta(d5d52fdd-a565-4043-bb61-4b7680650277, 11, 20, Finished, Available)"
            ]
          },
          "metadata": {},
          "output_type": "display_data"
        },
        {
          "name": "stderr",
          "output_type": "stream",
          "text": [
            "2023-11-13 20:14:50.739465: I tensorflow/core/platform/cpu_feature_guard.cc:142] This TensorFlow binary is optimized with oneAPI Deep Neural Network Library (oneDNN) to use the following CPU instructions in performance-critical operations:  SSE4.1 SSE4.2 AVX AVX2 AVX512F FMA\n",
            "To enable them in other operations, rebuild TensorFlow with the appropriate compiler flags.\n"
          ]
        }
      ],
      "source": [
        "class_weights = compute_class_weight('balanced', classes=np.unique(y_tr), y=y_tr)\n",
        "\n",
        "model = Sequential()\n",
        "model.add(Dense(128, activation='relu', input_shape=(X_tr.shape[1],)))\n",
        "model.add(Dropout(0.5))\n",
        "model.add(Dense(64, activation='relu'))\n",
        "model.add(Dropout(0.5))\n",
        "model.add(Dense(32, activation='relu'))\n",
        "model.add(Dropout(0.5))\n",
        "model.add(Dense(1, activation='sigmoid'))"
      ]
    },
    {
      "cell_type": "code",
      "execution_count": 16,
      "metadata": {
        "gather": {
          "logged": 1699906497210
        },
        "id": "_dTvIJG2kg3R"
      },
      "outputs": [
        {
          "data": {
            "application/vnd.livy.statement-meta+json": {
              "execution_finish_time": "2023-11-13T20:14:52.5291305Z",
              "execution_start_time": "2023-11-13T20:14:52.2332716Z",
              "livy_statement_state": "available",
              "parent_msg_id": "59b3c65d-5c22-4fa4-8a73-7d5129c98d88",
              "queued_time": "2023-11-13T20:12:21.3230913Z",
              "session_id": "11",
              "session_start_time": null,
              "spark_jobs": {
                "jobs": [],
                "limit": 20,
                "numbers": {
                  "FAILED": 0,
                  "RUNNING": 0,
                  "SUCCEEDED": 0,
                  "UNKNOWN": 0
                },
                "rule": "ALL_DESC"
              },
              "spark_pool": "d5d52fdd-a565-4043-bb61-4b7680650277",
              "state": "finished",
              "statement_id": 21
            },
            "text/plain": [
              "StatementMeta(d5d52fdd-a565-4043-bb61-4b7680650277, 11, 21, Finished, Available)"
            ]
          },
          "metadata": {},
          "output_type": "display_data"
        }
      ],
      "source": [
        "# Compile the model\n",
        "model.compile(loss='binary_crossentropy', optimizer='adam', metrics=['accuracy'])"
      ]
    },
    {
      "cell_type": "code",
      "execution_count": 17,
      "metadata": {
        "colab": {
          "base_uri": "https://localhost:8080/"
        },
        "gather": {
          "logged": 1699907111880
        },
        "id": "6zAhCrDtFVUQ",
        "outputId": "ed9eecd5-8da4-4b34-d692-47e83e6becc6"
      },
      "outputs": [
        {
          "data": {
            "application/vnd.livy.statement-meta+json": {
              "execution_finish_time": "2023-11-13T20:22:30.094248Z",
              "execution_start_time": "2023-11-13T20:14:52.6269011Z",
              "livy_statement_state": "available",
              "parent_msg_id": "10fa68d6-8a95-496f-ac40-3a9024e28b63",
              "queued_time": "2023-11-13T20:12:21.3245227Z",
              "session_id": "11",
              "session_start_time": null,
              "spark_jobs": {
                "jobs": [],
                "limit": 20,
                "numbers": {
                  "FAILED": 0,
                  "RUNNING": 0,
                  "SUCCEEDED": 0,
                  "UNKNOWN": 0
                },
                "rule": "ALL_DESC"
              },
              "spark_pool": "d5d52fdd-a565-4043-bb61-4b7680650277",
              "state": "finished",
              "statement_id": 22
            },
            "text/plain": [
              "StatementMeta(d5d52fdd-a565-4043-bb61-4b7680650277, 11, 22, Finished, Available)"
            ]
          },
          "metadata": {},
          "output_type": "display_data"
        },
        {
          "name": "stderr",
          "output_type": "stream",
          "text": [
            "2023-11-13 20:14:53.768246: I tensorflow/compiler/mlir/mlir_graph_optimization_pass.cc:116] None of the MLIR optimization passes are enabled (registered 2)\n",
            "2023-11-13 20:14:53.811692: I tensorflow/core/platform/profile_utils/cpu_utils.cc:112] CPU Frequency: 2793435000 Hz\n"
          ]
        },
        {
          "name": "stdout",
          "output_type": "stream",
          "text": [
            "Epoch 1/50\n",
            "12680/12680 [==============================] - 25s 2ms/step - loss: 0.4651 - accuracy: 0.8178 - val_loss: 0.3095 - val_accuracy: 0.8643\b\b\b\b\b\b\b\b\b\b\b\b\b\b\b\b\b\b\b\b\b\b\b\b\b\b\b\b\b\b\b\b\b\b\b\b\b\b\b\b\b\b\b\b\b\b\b\b\b\b\b\n",
            "Epoch 2/50\n",
            "12680/12680 [==============================] - 23s 2ms/step - loss: 0.3459 - accuracy: 0.8503 - val_loss: 0.2751 - val_accuracy: 0.8702\b\b\b\b\b\b\b\b\b\b\b\b\b\b\b\b\b\b\b\b\b\b\b\b\b\b\b\b\b\b\b\b\b\b\b\b\b\b\b\b\b\b\b\n",
            "Epoch 3/50\n",
            "12680/12680 [==============================] - 24s 2ms/step - loss: 0.3257 - accuracy: 0.8567 - val_loss: 0.2632 - val_accuracy: 0.8862\b\b\b\b\b\b\b\b\b\b\b\b\b\b\b\b\b\b\b\b\b\b\b\b\b\b\b\b\b\b\b\b\b\b\b\b\b\b\b\b\b\b\b\n",
            "Epoch 4/50\n",
            "12680/12680 [==============================] - 23s 2ms/step - loss: 0.3173 - accuracy: 0.8641 - val_loss: 0.2661 - val_accuracy: 0.8877\b\b\b\b\b\b\b\b\b\b\b\b\b\b\b\b\b\b\b\b\b\b\b\b\b\b\b\b\b\b\b\b\b\b\b\b\b\b\b\b\b\b\b\n",
            "Epoch 5/50\n",
            "12680/12680 [==============================] - 23s 2ms/step - loss: 0.3101 - accuracy: 0.8662 - val_loss: 0.2760 - val_accuracy: 0.8933\b\b\b\b\b\b\b\b\b\b\b\b\b\b\b\b\b\b\b\b\b\b\b\b\b\b\b\b\b\b\b\b\b\b\b\b\b\b\b\b\b\b\b\n",
            "Epoch 6/50\n",
            "12680/12680 [==============================] - 24s 2ms/step - loss: 0.3052 - accuracy: 0.8683 - val_loss: 0.2387 - val_accuracy: 0.8970\b\b\b\b\b\b\b\b\b\b\b\b\b\b\b\b\b\b\b\b\b\b\b\b\b\b\b\b\b\b\b\b\b\b\b\b\b\b\b\b\b\b\b\n",
            "Epoch 7/50\n",
            "12680/12680 [==============================] - 23s 2ms/step - loss: 0.3033 - accuracy: 0.8694 - val_loss: 0.2389 - val_accuracy: 0.8908\b\b\b\b\b\b\b\b\b\b\b\b\b\b\b\b\b\b\b\b\b\b\b\b\b\b\b\b\b\b\b\b\b\b\b\b\b\b\b\b\b\b\b\n",
            "Epoch 8/50\n",
            "12680/12680 [==============================] - 24s 2ms/step - loss: 0.3008 - accuracy: 0.8711 - val_loss: 0.2377 - val_accuracy: 0.8900\b\b\b\b\b\b\b\b\b\b\b\b\b\b\b\b\b\b\b\b\b\b\b\b\b\b\b\b\b\b\b\b\b\b\b\b\b\b\b\b\b\b\b\n",
            "Epoch 9/50\n",
            "12680/12680 [==============================] - 24s 2ms/step - loss: 0.2945 - accuracy: 0.8743 - val_loss: 0.2429 - val_accuracy: 0.8907\b\b\b\b\b\b\b\b\b\b\b\b\b\b\b\b\b\b\b\b\b\b\b\b\b\b\b\b\b\b\b\b\b\b\b\b\b\b\b\b\b\b\b\n",
            "Epoch 10/50\n",
            "12680/12680 [==============================] - 23s 2ms/step - loss: 0.2948 - accuracy: 0.8747 - val_loss: 0.2298 - val_accuracy: 0.8953\b\b\b\b\b\b\b\b\b\b\b\b\b\b\b\b\b\b\b\b\b\b\b\b\b\b\b\b\b\b\b\b\b\b\b\b\b\b\b\b\b\b\b\n",
            "Epoch 11/50\n",
            "12680/12680 [==============================] - 24s 2ms/step - loss: 0.2917 - accuracy: 0.8745 - val_loss: 0.2300 - val_accuracy: 0.8981\b\b\b\b\b\b\b\b\b\b\b\b\b\b\b\b\b\b\b\b\b\b\b\b\b\b\b\b\b\b\b\b\b\b\b\b\b\b\b\b\b\b\b\n",
            "Epoch 12/50\n",
            "12680/12680 [==============================] - 23s 2ms/step - loss: 0.2865 - accuracy: 0.8772 - val_loss: 0.2413 - val_accuracy: 0.8948\b\b\b\b\b\b\b\b\b\b\b\b\b\b\b\b\b\b\b\b\b\b\b\b\b\b\b\b\b\b\b\b\b\b\b\b\b\b\b\b\b\b\b\n",
            "Epoch 13/50\n",
            "12680/12680 [==============================] - 24s 2ms/step - loss: 0.2882 - accuracy: 0.8769 - val_loss: 0.2226 - val_accuracy: 0.8997\b\b\b\b\b\b\b\b\b\b\b\b\b\b\b\b\b\b\b\b\b\b\b\b\b\b\b\b\b\b\b\b\b\b\b\b\b\b\b\b\b\b\b\n",
            "Epoch 14/50\n",
            "12680/12680 [==============================] - 24s 2ms/step - loss: 0.2868 - accuracy: 0.8772 - val_loss: 0.2563 - val_accuracy: 0.8955\b\b\b\b\b\b\b\b\b\b\b\b\b\b\b\b\b\b\b\b\b\b\b\b\b\b\b\b\b\b\b\b\b\b\b\b\b\b\b\b\b\b\b\n",
            "Epoch 15/50\n",
            "12680/12680 [==============================] - 23s 2ms/step - loss: 0.2873 - accuracy: 0.8790 - val_loss: 0.2508 - val_accuracy: 0.8926\b\b\b\b\b\b\b\b\b\b\b\b\b\b\b\b\b\b\b\b\b\b\b\b\b\b\b\b\b\b\b\b\b\b\b\b\b\b\b\b\b\b\b\n",
            "Epoch 16/50\n",
            "12680/12680 [==============================] - 23s 2ms/step - loss: 0.2852 - accuracy: 0.8799 - val_loss: 0.2220 - val_accuracy: 0.9004\b\b\b\b\b\b\b\b\b\b\b\b\b\b\b\b\b\b\b\b\b\b\b\b\b\b\b\b\b\b\b\b\b\b\b\b\b\b\b\b\b\b\b\n",
            "Epoch 17/50\n",
            "12680/12680 [==============================] - 23s 2ms/step - loss: 0.2846 - accuracy: 0.8784 - val_loss: 0.2491 - val_accuracy: 0.8928\b\b\b\b\b\b\b\b\b\b\b\b\b\b\b\b\b\b\b\b\b\b\b\b\b\b\b\b\b\b\b\b\b\b\b\b\b\b\b\b\b\b\b\n",
            "Epoch 18/50\n",
            "12680/12680 [==============================] - 23s 2ms/step - loss: 0.2795 - accuracy: 0.8813 - val_loss: 0.2288 - val_accuracy: 0.8989\b\b\b\b\b\b\b\b\b\b\b\b\b\b\b\b\b\b\b\b\b\b\b\b\b\b\b\b\b\b\b\b\b\b\b\b\b\b\b\b\b\b\b\n",
            "Epoch 19/50\n",
            "12680/12680 [==============================] - 23s 2ms/step - loss: 0.2856 - accuracy: 0.8798 - val_loss: 0.2227 - val_accuracy: 0.9047\b\b\b\b\b\b\b\b\b\b\b\b\b\b\b\b\b\b\b\b\b\b\b\b\b\b\b\b\b\b\b\b\b\b\b\b\b\b\b\b\b\b\b\n"
          ]
        }
      ],
      "source": [
        "# Define early stopping callback\n",
        "early_stopping = EarlyStopping(monitor='val_loss', patience=3, restore_best_weights=True)\n",
        "\n",
        "# Train the model with early stopping\n",
        "history = model.fit(X_tr, y_tr, epochs=50, batch_size=32, validation_data=(X_ts, y_ts), class_weight=dict(enumerate(class_weights)), callbacks=[early_stopping])\n",
        "\n",
        "# callbacks=[early_stopping]"
      ]
    },
    {
      "cell_type": "code",
      "execution_count": 18,
      "metadata": {
        "colab": {
          "base_uri": "https://localhost:8080/"
        },
        "gather": {
          "logged": 1699907112238
        },
        "id": "XY7NnZ-FFYDG",
        "outputId": "22bda839-5dbb-4db4-a437-8877e6540c35"
      },
      "outputs": [
        {
          "data": {
            "application/vnd.livy.statement-meta+json": {
              "execution_finish_time": "2023-11-13T20:22:33.7056949Z",
              "execution_start_time": "2023-11-13T20:22:30.1845114Z",
              "livy_statement_state": "available",
              "parent_msg_id": "7471db36-7080-41ea-9671-c51426fa7afb",
              "queued_time": "2023-11-13T20:12:21.3258534Z",
              "session_id": "11",
              "session_start_time": null,
              "spark_jobs": {
                "jobs": [],
                "limit": 20,
                "numbers": {
                  "FAILED": 0,
                  "RUNNING": 0,
                  "SUCCEEDED": 0,
                  "UNKNOWN": 0
                },
                "rule": "ALL_DESC"
              },
              "spark_pool": "d5d52fdd-a565-4043-bb61-4b7680650277",
              "state": "finished",
              "statement_id": 23
            },
            "text/plain": [
              "StatementMeta(d5d52fdd-a565-4043-bb61-4b7680650277, 11, 23, Finished, Available)"
            ]
          },
          "metadata": {},
          "output_type": "display_data"
        },
        {
          "name": "stdout",
          "output_type": "stream",
          "text": [
            "              precision    recall  f1-score   support\n",
            "\n",
            "           0       0.72      0.91      0.80     22704\n",
            "           1       0.97      0.90      0.93     78736\n",
            "\n",
            "    accuracy                           0.90    101440\n",
            "   macro avg       0.85      0.90      0.87    101440\n",
            "weighted avg       0.92      0.90      0.90    101440\n",
            "\n",
            "[[20733  1971]\n",
            " [ 8134 70602]]\n"
          ]
        }
      ],
      "source": [
        "# Evaluate the model\n",
        "y_pred = model.predict(X_ts)\n",
        "y_pred = (y_pred > 0.5).astype(int)\n",
        "print(classification_report(y_ts, y_pred))\n",
        "print(confusion_matrix(y_ts, y_pred))"
      ]
    },
    {
      "cell_type": "code",
      "execution_count": 19,
      "metadata": {
        "gather": {
          "logged": 1699907112481
        },
        "id": "jnFHFiN6FaYk"
      },
      "outputs": [
        {
          "data": {
            "application/vnd.livy.statement-meta+json": {
              "execution_finish_time": "2023-11-13T20:22:37.2466896Z",
              "execution_start_time": "2023-11-13T20:22:33.8005933Z",
              "livy_statement_state": "available",
              "parent_msg_id": "69a7589f-656f-433f-b132-9225329b4355",
              "queued_time": "2023-11-13T20:12:21.3272209Z",
              "session_id": "11",
              "session_start_time": null,
              "spark_jobs": {
                "jobs": [],
                "limit": 20,
                "numbers": {
                  "FAILED": 0,
                  "RUNNING": 0,
                  "SUCCEEDED": 0,
                  "UNKNOWN": 0
                },
                "rule": "ALL_DESC"
              },
              "spark_pool": "d5d52fdd-a565-4043-bb61-4b7680650277",
              "state": "finished",
              "statement_id": 24
            },
            "text/plain": [
              "StatementMeta(d5d52fdd-a565-4043-bb61-4b7680650277, 11, 24, Finished, Available)"
            ]
          },
          "metadata": {},
          "output_type": "display_data"
        }
      ],
      "source": [
        "# Save the model and preprocessor\n",
        "model.save(f'{file_path}surfhound.h5')\n",
        "with open(f'{file_path}preprocessor.pkl', 'wb') as f:\n",
        "    pickle.dump(preprocessor, f)"
      ]
    },
    {
      "cell_type": "code",
      "execution_count": 4,
      "metadata": {
        "gather": {
          "logged": 1699907112728
        },
        "id": "1aOXcq4_VfSy"
      },
      "outputs": [],
      "source": [
        "def is_phishing_url(url):\n",
        "    # Load the preprocessor and the model\n",
        "    with open('../server_side_api/preprocessor.pkl', 'rb') as f:\n",
        "        preprocessor = pickle.load(f)\n",
        "    model = load_model('../server_side_api/surfhound.h5')\n",
        "\n",
        "    # Preprocess the URL\n",
        "    df = pd.DataFrame([[url, None ]], columns=['url','label'])\n",
        "    X = preprocessor.transform(df)\n",
        "    print(df)\n",
        "\n",
        "    # Make a prediction\n",
        "    prediction = model.predict(X)\n",
        "\n",
        "    # Return True if the URL is predicted to be phishing, False otherwise\n",
        "    if prediction[0][0] < 0.5:\n",
        "      return True\n",
        "    else:\n",
        "      return False"
      ]
    },
    {
      "cell_type": "code",
      "execution_count": 8,
      "metadata": {
        "colab": {
          "base_uri": "https://localhost:8080/"
        },
        "gather": {
          "logged": 1699907170051
        },
        "id": "LGcbpT1hXMCz",
        "outputId": "34477e19-336c-434a-9f29-fbe48449ef89"
      },
      "outputs": [
        {
          "ename": "NameError",
          "evalue": "name 'pickle' is not defined",
          "output_type": "error",
          "traceback": [
            "\u001b[0;31m---------------------------------------------------------------------------\u001b[0m",
            "\u001b[0;31mNameError\u001b[0m                                 Traceback (most recent call last)",
            "\u001b[1;32m/home/owen/projects/surfhound/model/surfhound.ipynb Cell 22\u001b[0m line \u001b[0;36m3\n\u001b[1;32m      <a href='vscode-notebook-cell:/home/owen/projects/surfhound/model/surfhound.ipynb#X61sZmlsZQ%3D%3D?line=0'>1</a>\u001b[0m \u001b[39mwhile\u001b[39;00m(\u001b[39mTrue\u001b[39;00m):\n\u001b[1;32m      <a href='vscode-notebook-cell:/home/owen/projects/surfhound/model/surfhound.ipynb#X61sZmlsZQ%3D%3D?line=1'>2</a>\u001b[0m     bad_url \u001b[39m=\u001b[39m \u001b[39minput\u001b[39m(\u001b[39m\"\u001b[39m\u001b[39mEnter a url: \u001b[39m\u001b[39m\"\u001b[39m)\n\u001b[0;32m----> <a href='vscode-notebook-cell:/home/owen/projects/surfhound/model/surfhound.ipynb#X61sZmlsZQ%3D%3D?line=2'>3</a>\u001b[0m     \u001b[39mprint\u001b[39m(is_phishing_url(bad_url))\n",
            "\u001b[1;32m/home/owen/projects/surfhound/model/surfhound.ipynb Cell 22\u001b[0m line \u001b[0;36m4\n\u001b[1;32m      <a href='vscode-notebook-cell:/home/owen/projects/surfhound/model/surfhound.ipynb#X61sZmlsZQ%3D%3D?line=0'>1</a>\u001b[0m \u001b[39mdef\u001b[39;00m \u001b[39mis_phishing_url\u001b[39m(url):\n\u001b[1;32m      <a href='vscode-notebook-cell:/home/owen/projects/surfhound/model/surfhound.ipynb#X61sZmlsZQ%3D%3D?line=1'>2</a>\u001b[0m     \u001b[39m# Load the preprocessor and the model\u001b[39;00m\n\u001b[1;32m      <a href='vscode-notebook-cell:/home/owen/projects/surfhound/model/surfhound.ipynb#X61sZmlsZQ%3D%3D?line=2'>3</a>\u001b[0m     \u001b[39mwith\u001b[39;00m \u001b[39mopen\u001b[39m(\u001b[39m'\u001b[39m\u001b[39m../server_side_api/preprocessor.pkl\u001b[39m\u001b[39m'\u001b[39m, \u001b[39m'\u001b[39m\u001b[39mrb\u001b[39m\u001b[39m'\u001b[39m) \u001b[39mas\u001b[39;00m f:\n\u001b[0;32m----> <a href='vscode-notebook-cell:/home/owen/projects/surfhound/model/surfhound.ipynb#X61sZmlsZQ%3D%3D?line=3'>4</a>\u001b[0m         preprocessor \u001b[39m=\u001b[39m pickle\u001b[39m.\u001b[39mload(f)\n\u001b[1;32m      <a href='vscode-notebook-cell:/home/owen/projects/surfhound/model/surfhound.ipynb#X61sZmlsZQ%3D%3D?line=4'>5</a>\u001b[0m     model \u001b[39m=\u001b[39m load_model(\u001b[39m'\u001b[39m\u001b[39m../server_side_api/surfhound.h5\u001b[39m\u001b[39m'\u001b[39m)\n\u001b[1;32m      <a href='vscode-notebook-cell:/home/owen/projects/surfhound/model/surfhound.ipynb#X61sZmlsZQ%3D%3D?line=6'>7</a>\u001b[0m     \u001b[39m# Preprocess the URL\u001b[39;00m\n",
            "\u001b[0;31mNameError\u001b[0m: name 'pickle' is not defined"
          ]
        }
      ],
      "source": [
        "while(True):\n",
        "    bad_url = input(\"Enter a url: \")\n",
        "    print(is_phishing_url(bad_url))"
      ]
    }
  ],
  "metadata": {
    "accelerator": "TPU",
    "colab": {
      "provenance": []
    },
    "kernel_info": {
      "name": "synapse_pyspark"
    },
    "kernelspec": {
      "display_name": "surfhound",
      "language": "python",
      "name": "python3"
    },
    "language_info": {
      "codemirror_mode": {
        "name": "ipython",
        "version": 3
      },
      "file_extension": ".py",
      "mimetype": "text/x-python",
      "name": "python",
      "nbconvert_exporter": "python",
      "pygments_lexer": "ipython3",
      "version": "3.9.18"
    },
    "microsoft": {
      "host": {
        "AzureML": {
          "notebookHasBeenCompleted": true
        }
      },
      "ms_spell_check": {
        "ms_spell_check_language": "en"
      }
    },
    "nteract": {
      "version": "nteract-front-end@1.0.0"
    }
  },
  "nbformat": 4,
  "nbformat_minor": 0
}
