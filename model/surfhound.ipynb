{
  "cells": [
    {
      "cell_type": "code",
      "execution_count": 12,
      "metadata": {
        "gather": {
          "logged": 1700061520231
        },
        "jupyter": {
          "outputs_hidden": false,
          "source_hidden": false
        },
        "nteract": {
          "transient": {
            "deleting": false
          }
        }
      },
      "outputs": [
        {
          "name": "stdout",
          "output_type": "stream",
          "text": [
            "/mnt/batch/tasks/shared/LS_root/mounts/clusters/surfhound-compute/code/Users/Owen.Rotich/Users/Owen.Rotich/\n"
          ]
        }
      ],
      "source": [
        "import os\n",
        "\n",
        "# Get the current working directory\n",
        "cwd = os.getcwd()\n",
        "\n",
        "# Construct the file path\n",
        "print(file_path)"
      ]
    },
    {
      "cell_type": "code",
      "execution_count": 13,
      "metadata": {
        "gather": {
          "logged": 1700061520365
        },
        "jupyter": {
          "outputs_hidden": false,
          "source_hidden": false
        },
        "nteract": {
          "transient": {
            "deleting": false
          }
        }
      },
      "outputs": [],
      "source": [
        "import sys\n",
        "\n",
        "# Add the directory containing utils.py to the Python path\n",
        "sys.path.append(os.path.dirname(file_path))"
      ]
    },
    {
      "cell_type": "code",
      "execution_count": 14,
      "metadata": {
        "gather": {
          "logged": 1700061520505
        },
        "id": "aJNaHNTy84fU"
      },
      "outputs": [],
      "source": [
        "import pandas as pd\n",
        "import matplotlib.pyplot as plt\n",
        "from sklearn.preprocessing import LabelEncoder\n",
        "from sklearn.model_selection import train_test_split\n",
        "from sklearn.metrics import classification_report, confusion_matrix\n",
        "from sklearn.utils import shuffle\n",
        "from sklearn.utils.class_weight import compute_class_weight\n",
        "from tensorflow.keras.models import Sequential, load_model\n",
        "from tensorflow.keras.layers import Dense, Dropout\n",
        "from tensorflow.keras.callbacks import EarlyStopping\n",
        "from sklearn.utils.class_weight import compute_class_weight\n",
        "import pickle\n",
        "from utils import Preprocessor\n",
        "import numpy as np"
      ]
    },
    {
      "cell_type": "code",
      "execution_count": 18,
      "metadata": {
        "gather": {
          "logged": 1700061537889
        },
        "id": "CaJkJRREFHSb"
      },
      "outputs": [],
      "source": [
        "# Load dataset\n",
        "df = pd.read_csv('phishing_site_urls.csv')"
      ]
    },
    {
      "cell_type": "markdown",
      "metadata": {
        "id": "C9vMPTwyprZS"
      },
      "source": [
        "EXPLORATORY DATASET ANALYSIS"
      ]
    },
    {
      "cell_type": "code",
      "execution_count": 19,
      "metadata": {
        "colab": {
          "base_uri": "https://localhost:8080/",
          "height": 339
        },
        "gather": {
          "logged": 1700061542534
        },
        "id": "ZcetkRh5potE",
        "outputId": "93c59b09-84b2-4839-93b7-f821813b078c"
      },
      "outputs": [
        {
          "name": "stdout",
          "output_type": "stream",
          "text": [
            "<class 'pandas.core.frame.DataFrame'>\n",
            "RangeIndex: 549346 entries, 0 to 549345\n",
            "Data columns (total 2 columns):\n",
            " #   Column  Non-Null Count   Dtype \n",
            "---  ------  --------------   ----- \n",
            " 0   url     549346 non-null  object\n",
            " 1   label   549346 non-null  object\n",
            "dtypes: object(2)\n",
            "memory usage: 8.4+ MB\n"
          ]
        },
        {
          "data": {
            "text/html": [
              "<div>\n",
              "<style scoped>\n",
              "    .dataframe tbody tr th:only-of-type {\n",
              "        vertical-align: middle;\n",
              "    }\n",
              "\n",
              "    .dataframe tbody tr th {\n",
              "        vertical-align: top;\n",
              "    }\n",
              "\n",
              "    .dataframe thead th {\n",
              "        text-align: right;\n",
              "    }\n",
              "</style>\n",
              "<table border=\"1\" class=\"dataframe\">\n",
              "  <thead>\n",
              "    <tr style=\"text-align: right;\">\n",
              "      <th></th>\n",
              "      <th>url</th>\n",
              "      <th>label</th>\n",
              "    </tr>\n",
              "  </thead>\n",
              "  <tbody>\n",
              "    <tr>\n",
              "      <th>count</th>\n",
              "      <td>549346</td>\n",
              "      <td>549346</td>\n",
              "    </tr>\n",
              "    <tr>\n",
              "      <th>unique</th>\n",
              "      <td>507195</td>\n",
              "      <td>2</td>\n",
              "    </tr>\n",
              "    <tr>\n",
              "      <th>top</th>\n",
              "      <td>jhomitevd2abj3fk.onion.to/</td>\n",
              "      <td>good</td>\n",
              "    </tr>\n",
              "    <tr>\n",
              "      <th>freq</th>\n",
              "      <td>52</td>\n",
              "      <td>392924</td>\n",
              "    </tr>\n",
              "  </tbody>\n",
              "</table>\n",
              "</div>"
            ],
            "text/plain": [
              "                               url   label\n",
              "count                       549346  549346\n",
              "unique                      507195       2\n",
              "top     jhomitevd2abj3fk.onion.to/    good\n",
              "freq                            52  392924"
            ]
          },
          "execution_count": 19,
          "metadata": {},
          "output_type": "execute_result"
        }
      ],
      "source": [
        "# basic info\n",
        "df.info()\n",
        "df.describe()"
      ]
    },
    {
      "cell_type": "code",
      "execution_count": 20,
      "metadata": {
        "colab": {
          "base_uri": "https://localhost:8080/"
        },
        "gather": {
          "logged": 1700061542731
        },
        "id": "JQNvtymypxTd",
        "outputId": "847af5e7-f3fc-4c47-a558-5f7e69443d56"
      },
      "outputs": [
        {
          "data": {
            "text/plain": [
              "42150"
            ]
          },
          "execution_count": 20,
          "metadata": {},
          "output_type": "execute_result"
        }
      ],
      "source": [
        "# find duplicates\n",
        "df.duplicated().sum()"
      ]
    },
    {
      "cell_type": "code",
      "execution_count": 21,
      "metadata": {
        "colab": {
          "base_uri": "https://localhost:8080/"
        },
        "gather": {
          "logged": 1700061542923
        },
        "id": "QwxwQXH2GxMQ",
        "outputId": "6de1ebe9-08c0-4030-c9b8-96292c3fe298"
      },
      "outputs": [
        {
          "data": {
            "text/plain": [
              "url      object\n",
              "label    object\n",
              "dtype: object"
            ]
          },
          "execution_count": 21,
          "metadata": {},
          "output_type": "execute_result"
        }
      ],
      "source": [
        "# check the data types\n",
        "df.dtypes"
      ]
    },
    {
      "cell_type": "code",
      "execution_count": 22,
      "metadata": {
        "colab": {
          "base_uri": "https://localhost:8080/"
        },
        "gather": {
          "logged": 1700061543078
        },
        "id": "t9KLI7Nip90T",
        "outputId": "adcc5a64-380b-450d-d5b1-69fd04278eae"
      },
      "outputs": [
        {
          "name": "stdout",
          "output_type": "stream",
          "text": [
            "Number of bad URLs: 156422\n",
            "Number of good URLs: 392924\n"
          ]
        }
      ],
      "source": [
        "# print the number of bad vs good URLs\n",
        "label_counts = df['label'].value_counts()\n",
        "print(f'Number of bad URLs: {label_counts[\"bad\"]}')\n",
        "print(f'Number of good URLs: {label_counts[\"good\"]}')"
      ]
    },
    {
      "cell_type": "code",
      "execution_count": 23,
      "metadata": {
        "colab": {
          "base_uri": "https://localhost:8080/",
          "height": 472
        },
        "gather": {
          "logged": 1700061543244
        },
        "id": "F9GwBQyepzXF",
        "outputId": "7a3599d2-1354-4d18-a6ad-719fc0839187"
      },
      "outputs": [
        {
          "data": {
            "image/png": "[encoded data removed]",
            "text/plain": [
              "<Figure size 640x480 with 1 Axes>"
            ]
          },
          "metadata": {},
          "output_type": "display_data"
        }
      ],
      "source": [
        "# plot number of URLs in each label\n",
        "label_counts = df['label'].value_counts()\n",
        "plt.bar(label_counts.index, label_counts.values)\n",
        "plt.xlabel('Label')\n",
        "plt.ylabel('No. of URLs')\n",
        "plt.title('URL distribution')\n",
        "plt.show()"
      ]
    },
    {
      "cell_type": "code",
      "execution_count": 24,
      "metadata": {
        "gather": {
          "logged": 1700061543483
        },
        "id": "IkWQ3fYsFMBG"
      },
      "outputs": [],
      "source": [
        "# Data Cleaning\n",
        "df = df.dropna()  # remove missing values\n",
        "df = df.drop_duplicates()  # remove duplicates\n",
        "df['url'] = df['url'].str.lower()  # convert to lowercase"
      ]
    },
    {
      "cell_type": "code",
      "execution_count": 25,
      "metadata": {
        "gather": {
          "logged": 1700061543626
        },
        "id": "T5p07LIy-mEA"
      },
      "outputs": [],
      "source": [
        "# Convert labels to binary format ('good' -> 1, 'bad' -> 0)\n",
        "le = LabelEncoder()\n",
        "df['label'] = le.fit_transform(df['label'])"
      ]
    },
    {
      "cell_type": "code",
      "execution_count": 26,
      "metadata": {
        "colab": {
          "base_uri": "https://localhost:8080/"
        },
        "gather": {
          "logged": 1700061618586
        },
        "id": "fgPOeeEnFQFT",
        "outputId": "2d3fd66b-8864-4973-ed78-0d43fd5ba949"
      },
      "outputs": [
        {
          "name": "stdout",
          "output_type": "stream",
          "text": [
            "length of sequences: 177\n"
          ]
        }
      ],
      "source": [
        "# Initialize the preprocessor and transform the data\n",
        "preprocessor = Preprocessor()\n",
        "X = preprocessor.fit_transform(df)\n",
        "y = df['label']"
      ]
    },
    {
      "cell_type": "code",
      "execution_count": 27,
      "metadata": {
        "gather": {
          "logged": 1700061620220
        },
        "id": "Ythi3ujfFTqO"
      },
      "outputs": [],
      "source": [
        "# Split the data into training and test sets\n",
        "X_tr, X_ts, y_tr, y_ts = train_test_split(X, y, test_size=0.2, random_state=42, shuffle=True)"
      ]
    },
    {
      "cell_type": "code",
      "execution_count": 28,
      "metadata": {
        "gather": {
          "logged": 1700061621212
        },
        "id": "OvJxOVuIggT3"
      },
      "outputs": [
        {
          "name": "stderr",
          "output_type": "stream",
          "text": [
            "2023-11-15 15:20:14.893766: E tensorflow/compiler/xla/stream_executor/cuda/cuda_driver.cc:267] failed call to cuInit: CUDA_ERROR_NO_DEVICE: no CUDA-capable device is detected\n",
            "2023-11-15 15:20:14.894290: I tensorflow/compiler/xla/stream_executor/cuda/cuda_diagnostics.cc:156] kernel driver does not appear to be running on this host (surfhound-compute): /proc/driver/nvidia/version does not exist\n",
            "2023-11-15 15:20:14.901018: I tensorflow/core/platform/cpu_feature_guard.cc:193] This TensorFlow binary is optimized with oneAPI Deep Neural Network Library (oneDNN) to use the following CPU instructions in performance-critical operations:  AVX2 AVX512F FMA\n",
            "To enable them in other operations, rebuild TensorFlow with the appropriate compiler flags.\n"
          ]
        }
      ],
      "source": [
        "class_weights = compute_class_weight('balanced', classes=np.unique(y_tr), y=y_tr)\n",
        "\n",
        "model = Sequential()\n",
        "model.add(Dense(128, activation='relu', input_shape=(X_tr.shape[1],)))\n",
        "model.add(Dropout(0.5))\n",
        "model.add(Dense(64, activation='relu'))\n",
        "model.add(Dropout(0.5))\n",
        "model.add(Dense(32, activation='relu'))\n",
        "model.add(Dropout(0.5))\n",
        "model.add(Dense(1, activation='sigmoid'))"
      ]
    },
    {
      "cell_type": "code",
      "execution_count": 29,
      "metadata": {
        "gather": {
          "logged": 1700061621351
        },
        "id": "_dTvIJG2kg3R"
      },
      "outputs": [],
      "source": [
        "# Compile the model\n",
        "model.compile(loss='binary_crossentropy', optimizer='adam', metrics=['accuracy'])"
      ]
    },
    {
      "cell_type": "code",
      "execution_count": 30,
      "metadata": {
        "colab": {
          "base_uri": "https://localhost:8080/"
        },
        "gather": {
          "logged": 1700061920805
        },
        "id": "6zAhCrDtFVUQ",
        "outputId": "ed9eecd5-8da4-4b34-d692-47e83e6becc6"
      },
      "outputs": [
        {
          "name": "stderr",
          "output_type": "stream",
          "text": [
            "2023-11-15 15:20:16.163412: W tensorflow/tsl/framework/cpu_allocator_impl.cc:82] Allocation of 1624647024 exceeds 10% of free system memory.\n",
            "2023-11-15 15:20:52.091421: W tensorflow/tsl/framework/cpu_allocator_impl.cc:82] Allocation of 406165760 exceeds 10% of free system memory.\n"
          ]
        },
        {
          "name": "stdout",
          "output_type": "stream",
          "text": [
            "Epoch 1/50\n",
            "12680/12680 [==============================] - 38s 3ms/step - loss: 0.4072 - accuracy: 0.8394 - val_loss: 0.2865 - val_accuracy: 0.8717\b\b\b\b\b\b\b\b\b\b\b\b\b\b\b\b\b\b\b\b\b\b\b\b\b\b\b\b\b\b\b\b\b\b\b\b\b\b\b\b\b\b\b\b\b\b\b\b\b\b\b\n",
            "Epoch 2/50\n",
            "12680/12680 [==============================] - 36s 3ms/step - loss: 0.3436 - accuracy: 0.8542 - val_loss: 0.2866 - val_accuracy: 0.8708\b\b\b\b\b\b\b\b\b\b\b\b\b\b\b\b\b\b\b\b\b\b\b\b\b\b\b\b\b\b\b\b\b\b\b\b\b\b\b\b\b\b\b\n",
            "Epoch 3/50\n",
            "12680/12680 [==============================] - 38s 3ms/step - loss: 0.3272 - accuracy: 0.8595 - val_loss: 0.2712 - val_accuracy: 0.8776\b\b\b\b\b\b\b\b\b\b\b\b\b\b\b\b\b\b\b\b\b\b\b\b\b\b\b\b\b\b\b\b\b\b\b\b\b\b\b\b\b\b\b\n",
            "Epoch 4/50\n",
            "12680/12680 [==============================] - 38s 3ms/step - loss: 0.3191 - accuracy: 0.8646 - val_loss: 0.2540 - val_accuracy: 0.8877\b\b\b\b\b\b\b\b\b\b\b\b\b\b\b\b\b\b\b\b\b\b\b\b\b\b\b\b\b\b\b\b\b\b\b\b\b\b\b\b\b\b\b\n",
            "Epoch 5/50\n",
            "12680/12680 [==============================] - 36s 3ms/step - loss: 0.3112 - accuracy: 0.8661 - val_loss: 0.2365 - val_accuracy: 0.8978\b\b\b\b\b\b\b\b\b\b\b\b\b\b\b\b\b\b\b\b\b\b\b\b\b\b\b\b\b\b\b\b\b\b\b\b\b\b\b\b\b\b\b\n",
            "Epoch 6/50\n",
            "12680/12680 [==============================] - 38s 3ms/step - loss: 0.3069 - accuracy: 0.8667 - val_loss: 0.2420 - val_accuracy: 0.8913\b\b\b\b\b\b\b\b\b\b\b\b\b\b\b\b\b\b\b\b\b\b\b\b\b\b\b\b\b\b\b\b\b\b\b\b\b\b\b\b\b\b\b\n",
            "Epoch 7/50\n",
            "12680/12680 [==============================] - 38s 3ms/step - loss: 0.3053 - accuracy: 0.8676 - val_loss: 0.2601 - val_accuracy: 0.8840\b\b\b\b\b\b\b\b\b\b\b\b\b\b\b\b\b\b\b\b\b\b\b\b\b\b\b\b\b\b\b\b\b\b\b\b\b\b\b\b\b\b\b\b\b\n",
            "Epoch 8/50\n",
            "12680/12680 [==============================] - 36s 3ms/step - loss: 0.3002 - accuracy: 0.8710 - val_loss: 0.2594 - val_accuracy: 0.8848\b\b\b\b\b\b\b\b\b\b\b\b\b\b\b\b\b\b\b\b\b\b\b\b\b\b\b\b\b\b\b\b\b\b\b\b\b\b\b\b\b\b\b\b\b\n"
          ]
        }
      ],
      "source": [
        "# Define early stopping callback\n",
        "early_stopping = EarlyStopping(monitor='val_loss', patience=3, restore_best_weights=True)\n",
        "\n",
        "# Train the model with early stopping\n",
        "history = model.fit(X_tr, y_tr, epochs=50, batch_size=32, validation_data=(X_ts, y_ts), class_weight=dict(enumerate(class_weights)), callbacks=[early_stopping])\n"
      ]
    },
    {
      "cell_type": "code",
      "execution_count": 31,
      "metadata": {
        "colab": {
          "base_uri": "https://localhost:8080/"
        },
        "gather": {
          "logged": 1700061951693
        },
        "id": "XY7NnZ-FFYDG",
        "outputId": "22bda839-5dbb-4db4-a437-8877e6540c35"
      },
      "outputs": [
        {
          "name": "stderr",
          "output_type": "stream",
          "text": [
            "2023-11-15 15:25:15.094728: W tensorflow/tsl/framework/cpu_allocator_impl.cc:82] Allocation of 406165760 exceeds 10% of free system memory.\n"
          ]
        },
        {
          "name": "stdout",
          "output_type": "stream",
          "text": [
            "3170/3170 [==============================] - 3s 1ms/step\b\b\b\b\b\b\b\b\b\b\b\b\b\b\b\b\b\b\b\b\b\b\b\b\b\b\b\b\b\b\b\b\b\b\b\b\b\b\b\b\b\b\b\b\b\b\b\b\b\b\b\b\n",
            "              precision    recall  f1-score   support\n",
            "\n",
            "           0       0.72      0.88      0.79     22704\n",
            "           1       0.96      0.90      0.93     78736\n",
            "\n",
            "    accuracy                           0.90    101440\n",
            "   macro avg       0.84      0.89      0.86    101440\n",
            "weighted avg       0.91      0.90      0.90    101440\n",
            "\n",
            "[[19940  2764]\n",
            " [ 7600 71136]]\n"
          ]
        }
      ],
      "source": [
        "# Evaluate the model\n",
        "y_pred = model.predict(X_ts)\n",
        "y_pred = (y_pred > 0.5).astype(int)\n",
        "print(classification_report(y_ts, y_pred))\n",
        "print(confusion_matrix(y_ts, y_pred))"
      ]
    },
    {
      "cell_type": "code",
      "execution_count": 35,
      "metadata": {
        "gather": {
          "logged": 1700062177171
        },
        "id": "jnFHFiN6FaYk"
      },
      "outputs": [],
      "source": [
        "# Save the model and preprocessor\n",
        "model.save(f'surfhound.h5')\n",
        "with open(f'preprocessor.pkl', 'wb') as f:\n",
        "    pickle.dump(preprocessor, f)"
      ]
    },
    {
      "cell_type": "code",
      "execution_count": 36,
      "metadata": {
        "gather": {
          "logged": 1700062186330
        },
        "id": "1aOXcq4_VfSy"
      },
      "outputs": [],
      "source": [
        "def is_phishing_url(url):\n",
        "    # Load the preprocessor and the model\n",
        "    with open('preprocessor.pkl', 'rb') as f:\n",
        "        preprocessor = pickle.load(f)\n",
        "    model = load_model('surfhound.h5')\n",
        "\n",
        "    # Preprocess the URL\n",
        "    df = pd.DataFrame([[url, None ]], columns=['url','label'])\n",
        "    X = preprocessor.transform(df)\n",
        "    print(df)\n",
        "\n",
        "    # Make a prediction\n",
        "    prediction = model.predict(X)\n",
        "\n",
        "    # Return True if the URL is predicted to be phishing, False otherwise\n",
        "    if prediction[0][0] < 0.5:\n",
        "      return True\n",
        "    else:\n",
        "      return False"
      ]
    },
    {
      "cell_type": "code",
      "execution_count": 37,
      "metadata": {
        "colab": {
          "base_uri": "https://localhost:8080/"
        },
        "gather": {
          "logged": 1700062157300
        },
        "id": "LGcbpT1hXMCz",
        "outputId": "34477e19-336c-434a-9f29-fbe48449ef89"
      },
      "outputs": [
        {
          "name": "stdout",
          "output_type": "stream",
          "text": [
            "          url label  url_length  num_digits  num_letters  num_special_chars  \\\n",
            "0  google.com  None          10           0            9                  1   \n",
            "\n",
            "   num_dots  num_slashes  num_hyphens  num_subdomains  has_https  tld_length  \\\n",
            "0         1            0            0               1          0           3   \n",
            "\n",
            "   has_ip  has_redirects  \n",
            "0       0              0  \n",
            "1/1 [==============================] - 0s 67ms/step\b\b\b\b\b\b\b\b\b\b\b\b\b\b\b\b\b\b\b\b\b\b\b\b\b\b\b\b\b\b\b\b\b\b\b\b\b\b\b\b\b\n",
            "False\n",
            "                url label  url_length  num_digits  num_letters  \\\n",
            "0  123phishingisurl  None          16           3           13   \n",
            "\n",
            "   num_special_chars  num_dots  num_slashes  num_hyphens  num_subdomains  \\\n",
            "0                  0         0            0            0               0   \n",
            "\n",
            "   has_https  tld_length  has_ip  has_redirects  \n",
            "0          0           0       0              0  \n",
            "1/1 [==============================] - 0s 107ms/step\b\b\b\b\b\b\b\b\b\b\b\b\b\b\b\b\b\b\b\b\b\b\b\b\b\b\b\b\b\b\b\b\b\b\b\b\b\b\b\b\n",
            "True\n",
            "                  url label  url_length  num_digits  num_letters  \\\n",
            "0  whatisphishing.com  None          18           0           17   \n",
            "\n",
            "   num_special_chars  num_dots  num_slashes  num_hyphens  num_subdomains  \\\n",
            "0                  1         1            0            0               1   \n",
            "\n",
            "   has_https  tld_length  has_ip  has_redirects  \n",
            "0          0           3       0              0  \n",
            "1/1 [==============================] - 0s 63ms/step\b\b\b\b\b\b\b\b\b\b\b\b\b\b\b\b\b\b\b\b\b\b\b\b\b\b\b\b\b\b\b\b\b\b\b\b\b\b\b\b\b\n",
            "False\n",
            "                 url label  url_length  num_digits  num_letters  \\\n",
            "0  thisisabadurl.org  None          17           0           16   \n",
            "\n",
            "   num_special_chars  num_dots  num_slashes  num_hyphens  num_subdomains  \\\n",
            "0                  1         1            0            0               1   \n",
            "\n",
            "   has_https  tld_length  has_ip  has_redirects  \n",
            "0          0           3       0              0  \n",
            "WARNING:tensorflow:5 out of the last 3174 calls to <function Model.make_predict_function.<locals>.predict_function at 0x7ff10b8e28b0> triggered tf.function retracing. Tracing is expensive and the excessive number of tracings could be due to (1) creating @tf.function repeatedly in a loop, (2) passing tensors with different shapes, (3) passing Python objects instead of tensors. For (1), please define your @tf.function outside of the loop. For (2), @tf.function has reduce_retracing=True option that can avoid unnecessary retracing. For (3), please refer to https://www.tensorflow.org/guide/function#controlling_retracing and https://www.tensorflow.org/api_docs/python/tf/function for  more details.\n",
            "1/1 [==============================] - 0s 68ms/step\b\b\b\b\b\b\b\b\b\b\b\b\b\b\b\b\b\b\b\b\b\b\b\b\b\b\b\b\b\b\b\b\b\b\b\b\b\b\b\b\b\n",
            "False\n",
            "                                    url label  url_length  num_digits  \\\n",
            "0  thisisagoodandbadurl.org.com.chicken  None          36           0   \n",
            "\n",
            "   num_letters  num_special_chars  num_dots  num_slashes  num_hyphens  \\\n",
            "0           33                  3         3            0            0   \n",
            "\n",
            "   num_subdomains  has_https  tld_length  has_ip  has_redirects  \n",
            "0               3          0           0       0              0  \n",
            "WARNING:tensorflow:6 out of the last 3175 calls to <function Model.make_predict_function.<locals>.predict_function at 0x7ff10b8e2160> triggered tf.function retracing. Tracing is expensive and the excessive number of tracings could be due to (1) creating @tf.function repeatedly in a loop, (2) passing tensors with different shapes, (3) passing Python objects instead of tensors. For (1), please define your @tf.function outside of the loop. For (2), @tf.function has reduce_retracing=True option that can avoid unnecessary retracing. For (3), please refer to https://www.tensorflow.org/guide/function#controlling_retracing and https://www.tensorflow.org/api_docs/python/tf/function for  more details.\n",
            "1/1 [==============================] - 0s 64ms/step\b\b\b\b\b\b\b\b\b\b\b\b\b\b\b\b\b\b\b\b\b\b\b\b\b\b\b\b\b\b\b\b\b\b\b\b\b\b\b\b\b\n",
            "True\n",
            "                                    url label  url_length  num_digits  \\\n",
            "0  thisisagoodandbadurl.org.com.chicken  None          36           0   \n",
            "\n",
            "   num_letters  num_special_chars  num_dots  num_slashes  num_hyphens  \\\n",
            "0           33                  3         3            0            0   \n",
            "\n",
            "   num_subdomains  has_https  tld_length  has_ip  has_redirects  \n",
            "0               3          0           0       0              0  \n",
            "1/1 [==============================] - 0s 64ms/step\b\b\b\b\b\b\b\b\b\b\b\b\b\b\b\b\b\b\b\b\b\b\b\b\b\b\b\b\b\b\b\b\b\b\b\b\b\b\b\b\b\n",
            "True\n",
            "     url label  url_length  num_digits  num_letters  num_special_chars  \\\n",
            "0  clear  None           5           0            5                  0   \n",
            "\n",
            "   num_dots  num_slashes  num_hyphens  num_subdomains  has_https  tld_length  \\\n",
            "0         0            0            0               0          0           0   \n",
            "\n",
            "   has_ip  has_redirects  \n",
            "0       0              0  \n",
            "1/1 [==============================] - 0s 65ms/step\b\b\b\b\b\b\b\b\b\b\b\b\b\b\b\b\b\b\b\b\b\b\b\b\b\b\b\b\b\b\b\b\b\b\b\b\b\b\b\b\b\n",
            "True\n",
            "     url label  url_length  num_digits  num_letters  num_special_chars  \\\n",
            "0  clear  None           5           0            5                  0   \n",
            "\n",
            "   num_dots  num_slashes  num_hyphens  num_subdomains  has_https  tld_length  \\\n",
            "0         0            0            0               0          0           0   \n",
            "\n",
            "   has_ip  has_redirects  \n",
            "0       0              0  \n",
            "1/1 [==============================] - 0s 67ms/step\b\b\b\b\b\b\b\b\b\b\b\b\b\b\b\b\b\b\b\b\b\b\b\b\b\b\b\b\b\b\b\b\b\b\b\b\b\b\b\b\b\n",
            "True\n",
            "    url label  url_length  num_digits  num_letters  num_special_chars  \\\n",
            "0  owen  None           4           0            4                  0   \n",
            "\n",
            "   num_dots  num_slashes  num_hyphens  num_subdomains  has_https  tld_length  \\\n",
            "0         0            0            0               0          0           0   \n",
            "\n",
            "   has_ip  has_redirects  \n",
            "0       0              0  \n",
            "1/1 [==============================] - 0s 96ms/step\b\b\b\b\b\b\b\b\b\b\b\b\b\b\b\b\b\b\b\b\b\b\b\b\b\b\b\b\b\b\b\b\b\b\b\b\b\b\b\b\b\n",
            "True\n",
            "    url label  url_length  num_digits  num_letters  num_special_chars  \\\n",
            "0  owen  None           4           0            4                  0   \n",
            "\n",
            "   num_dots  num_slashes  num_hyphens  num_subdomains  has_https  tld_length  \\\n",
            "0         0            0            0               0          0           0   \n",
            "\n",
            "   has_ip  has_redirects  \n",
            "0       0              0  \n",
            "1/1 [==============================] - 0s 63ms/step\b\b\b\b\b\b\b\b\b\b\b\b\b\b\b\b\b\b\b\b\b\b\b\b\b\b\b\b\b\b\b\b\b\b\b\b\b\b\b\b\b\n",
            "True\n",
            "    url label  url_length  num_digits  num_letters  num_special_chars  \\\n",
            "0  owen  None           4           0            4                  0   \n",
            "\n",
            "   num_dots  num_slashes  num_hyphens  num_subdomains  has_https  tld_length  \\\n",
            "0         0            0            0               0          0           0   \n",
            "\n",
            "   has_ip  has_redirects  \n",
            "0       0              0  \n",
            "1/1 [==============================] - 0s 58ms/step\b\b\b\b\b\b\b\b\b\b\b\b\b\b\b\b\b\b\b\b\b\b\b\b\b\b\b\b\b\b\b\b\b\b\b\b\b\b\b\b\b\n",
            "True\n",
            "        url label  url_length  num_digits  num_letters  num_special_chars  \\\n",
            "0  owen.com  None           8           0            7                  1   \n",
            "\n",
            "   num_dots  num_slashes  num_hyphens  num_subdomains  has_https  tld_length  \\\n",
            "0         1            0            0               1          0           3   \n",
            "\n",
            "   has_ip  has_redirects  \n",
            "0       0              0  \n",
            "1/1 [==============================] - 0s 61ms/step\b\b\b\b\b\b\b\b\b\b\b\b\b\b\b\b\b\b\b\b\b\b\b\b\b\b\b\b\b\b\b\b\b\b\b\b\b\b\b\b\b\n",
            "False\n",
            "        url label  url_length  num_digits  num_letters  num_special_chars  \\\n",
            "0  owen.com  None           8           0            7                  1   \n",
            "\n",
            "   num_dots  num_slashes  num_hyphens  num_subdomains  has_https  tld_length  \\\n",
            "0         1            0            0               1          0           3   \n",
            "\n",
            "   has_ip  has_redirects  \n",
            "0       0              0  \n",
            "1/1 [==============================] - 0s 56ms/step\b\b\b\b\b\b\b\b\b\b\b\b\b\b\b\b\b\b\b\b\b\b\b\b\b\b\b\b\b\b\b\b\b\b\b\b\b\b\b\b\b\n",
            "False\n"
          ]
        }
      ],
      "source": [
        "while(True):\n",
        "    bad_url = input(\"Enter a url: \")\n",
        "    print(is_phishing_url(bad_url))"
      ]
    }
  ],
  "metadata": {
    "accelerator": "TPU",
    "colab": {
      "provenance": []
    },
    "kernel_info": {
      "name": "python38-azureml"
    },
    "kernelspec": {
      "display_name": "surfhound",
      "language": "python",
      "name": "python3"
    },
    "language_info": {
      "codemirror_mode": {
        "name": "ipython",
        "version": 3
      },
      "file_extension": ".py",
      "mimetype": "text/x-python",
      "name": "python",
      "nbconvert_exporter": "python",
      "pygments_lexer": "ipython3",
      "version": "3.10.13"
    },
    "microsoft": {
      "host": {
        "AzureML": {
          "notebookHasBeenCompleted": true
        }
      },
      "ms_spell_check": {
        "ms_spell_check_language": "en"
      }
    },
    "nteract": {
      "version": "nteract-front-end@1.0.0"
    }
  },
  "nbformat": 4,
  "nbformat_minor": 0
}
